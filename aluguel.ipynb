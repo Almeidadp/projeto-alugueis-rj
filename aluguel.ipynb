{
 "cells": [
  {
   "cell_type": "markdown",
   "id": "82fe3535",
   "metadata": {},
   "source": [
    "# Importação de Dados "
   ]
  },
  {
   "cell_type": "code",
   "execution_count": 47,
   "id": "7cc5b582",
   "metadata": {},
   "outputs": [
    {
     "data": {
      "application/vnd.microsoft.datawrangler.viewer.v0+json": {
       "columns": [
        {
         "name": "index",
         "rawType": "int64",
         "type": "integer"
        },
        {
         "name": "Tipo",
         "rawType": "object",
         "type": "string"
        },
        {
         "name": "Bairro",
         "rawType": "object",
         "type": "string"
        },
        {
         "name": "Quartos",
         "rawType": "int64",
         "type": "integer"
        },
        {
         "name": "Vagas",
         "rawType": "int64",
         "type": "integer"
        },
        {
         "name": "Suites",
         "rawType": "int64",
         "type": "integer"
        },
        {
         "name": "Area",
         "rawType": "int64",
         "type": "integer"
        },
        {
         "name": "Valor",
         "rawType": "float64",
         "type": "float"
        },
        {
         "name": "Condominio",
         "rawType": "float64",
         "type": "float"
        },
        {
         "name": "IPTU",
         "rawType": "float64",
         "type": "float"
        }
       ],
       "conversionMethod": "pd.DataFrame",
       "ref": "a61f6afb-50cc-45a5-bdda-8bfcf95d8d62",
       "rows": [
        [
         "0",
         "Quitinete",
         "Copacabana",
         "1",
         "0",
         "0",
         "40",
         "1700.0",
         "500.0",
         "60.0"
        ],
        [
         "1",
         "Casa",
         "Jardim Botânico",
         "2",
         "0",
         "1",
         "100",
         "7000.0",
         null,
         null
        ],
        [
         "2",
         "Conjunto Comercial/Sala",
         "Barra da Tijuca",
         "0",
         "4",
         "0",
         "150",
         "5200.0",
         "4020.0",
         "1111.0"
        ],
        [
         "3",
         "Apartamento",
         "Centro",
         "1",
         "0",
         "0",
         "15",
         "800.0",
         "390.0",
         "20.0"
        ],
        [
         "4",
         "Apartamento",
         "Higienópolis",
         "1",
         "0",
         "0",
         "48",
         "800.0",
         "230.0",
         null
        ],
        [
         "5",
         "Apartamento",
         "Vista Alegre",
         "3",
         "1",
         "0",
         "70",
         "1200.0",
         null,
         null
        ],
        [
         "6",
         "Apartamento",
         "Cachambi",
         "2",
         "0",
         "0",
         "50",
         "1300.0",
         "301.0",
         "17.0"
        ],
        [
         "7",
         "Casa de Condomínio",
         "Barra da Tijuca",
         "5",
         "4",
         "5",
         "750",
         "22000.0",
         null,
         null
        ],
        [
         "8",
         "Casa de Condomínio",
         "Ramos",
         "2",
         "2",
         "0",
         "65",
         "1000.0",
         null,
         null
        ],
        [
         "9",
         "Conjunto Comercial/Sala",
         "Centro",
         "0",
         "3",
         "0",
         "695",
         "35000.0",
         "19193.0",
         "3030.0"
        ],
        [
         "10",
         "Apartamento",
         "Centro",
         "1",
         "0",
         "0",
         "36",
         "1200.0",
         null,
         null
        ],
        [
         "11",
         "Apartamento",
         "Grajaú",
         "2",
         "1",
         "0",
         "70",
         "1500.0",
         "642.0",
         "74.0"
        ],
        [
         "12",
         "Apartamento",
         "Lins de Vasconcelos",
         "3",
         "1",
         "1",
         "90",
         "1500.0",
         "455.0",
         "14.0"
        ],
        [
         "13",
         "Apartamento",
         "Copacabana",
         "1",
         "0",
         "1",
         "40",
         "2000.0",
         "561.0",
         "50.0"
        ],
        [
         "14",
         "Quitinete",
         "Copacabana",
         "1",
         "0",
         "0",
         "27",
         "1800.0",
         "501.0",
         null
        ],
        [
         "15",
         "Apartamento",
         "Copacabana",
         "4",
         "3",
         "1",
         "243",
         "13000.0",
         "2000.0",
         "803.0"
        ],
        [
         "16",
         "Prédio Inteiro",
         "Botafogo",
         "0",
         "0",
         "0",
         "536",
         "28000.0",
         null,
         "3563.0"
        ],
        [
         "17",
         "Flat",
         "Botafogo",
         "3",
         "1",
         "1",
         "80",
         "3800.0",
         "1040.0",
         null
        ],
        [
         "18",
         "Casa de Condomínio",
         "Taquara",
         "3",
         "1",
         "1",
         "115",
         "2000.0",
         null,
         null
        ],
        [
         "19",
         "Apartamento",
         "Freguesia (Jacarepaguá)",
         "3",
         "0",
         "0",
         "54",
         "950.0",
         "300.0",
         "28.0"
        ],
        [
         "20",
         "Apartamento",
         "Barra da Tijuca",
         "2",
         "1",
         "1",
         "67",
         "1700.0",
         "589.0",
         "147.0"
        ],
        [
         "21",
         "Apartamento",
         "Tijuca",
         "2",
         "1",
         "0",
         "110",
         "1900.0",
         "700.0",
         "138.0"
        ],
        [
         "22",
         "Casa de Condomínio",
         "Barra da Tijuca",
         "4",
         "3",
         "2",
         "466",
         "7500.0",
         "2695.0",
         null
        ],
        [
         "23",
         "Apartamento",
         "Olaria",
         "3",
         "1",
         "0",
         "68",
         "1000.0",
         "670.0",
         null
        ],
        [
         "24",
         "Apartamento",
         "Tijuca",
         "2",
         "1",
         "0",
         "78",
         "2000.0",
         "700.0",
         null
        ],
        [
         "25",
         "Flat",
         "Leblon",
         "1",
         "0",
         "0",
         "56",
         "4500.0",
         "1900.0",
         "1500.0"
        ],
        [
         "26",
         "Conjunto Comercial/Sala",
         "São Cristóvão",
         "0",
         "1",
         "0",
         "25",
         "1100.0",
         "600.0",
         null
        ],
        [
         "27",
         "Apartamento",
         "Ipanema",
         "3",
         "1",
         "1",
         "125",
         "7000.0",
         "2100.0",
         "463.0"
        ],
        [
         "28",
         "Apartamento",
         "Tijuca",
         "1",
         "0",
         "0",
         "48",
         "750.0",
         "772.0",
         "25.0"
        ],
        [
         "29",
         "Loja/Salão",
         "Campo Grande",
         "0",
         "1",
         "0",
         "35",
         "1300.0",
         "950.0",
         null
        ],
        [
         "30",
         "Apartamento",
         "Barra da Tijuca",
         "3",
         "3",
         "1",
         "175",
         "4200.0",
         "1500.0",
         "500.0"
        ],
        [
         "31",
         "Casa",
         "Campo Grande",
         "4",
         "1",
         "2",
         "400",
         "12000.0",
         null,
         null
        ],
        [
         "32",
         "Apartamento",
         "Botafogo",
         "2",
         "1",
         "0",
         "76",
         "2500.0",
         "740.0",
         null
        ],
        [
         "33",
         "Apartamento",
         "Copacabana",
         "3",
         "1",
         "2",
         "378",
         "10000.0",
         "2150.0",
         "700.0"
        ],
        [
         "34",
         "Apartamento",
         "Copacabana",
         "3",
         "0",
         "0",
         "180",
         "5500.0",
         "1780.0",
         "420.0"
        ],
        [
         "35",
         "Conjunto Comercial/Sala",
         "Barra da Tijuca",
         "0",
         "1",
         "0",
         "22",
         "700.0",
         null,
         null
        ],
        [
         "36",
         "Apartamento",
         "Recreio dos Bandeirantes",
         "3",
         "1",
         "1",
         "105",
         "2300.0",
         "648.0",
         null
        ],
        [
         "37",
         "Apartamento",
         "Leblon",
         "3",
         "1",
         "0",
         "110",
         "3900.0",
         "1500.0",
         "120.0"
        ],
        [
         "38",
         "Conjunto Comercial/Sala",
         "Centro",
         "0",
         "5",
         "0",
         "1306",
         "117540.0",
         "19486.0",
         null
        ],
        [
         "39",
         "Quitinete",
         "Copacabana",
         "1",
         "0",
         "0",
         "27",
         "1300.0",
         "380.0",
         "53.0"
        ],
        [
         "40",
         "Apartamento",
         "Jardim Oceânico",
         "3",
         "3",
         "1",
         "200",
         "3500.0",
         "1780.0",
         "496.0"
        ],
        [
         "41",
         "Apartamento",
         "Barra da Tijuca",
         "3",
         "1",
         "2",
         "70",
         "1800.0",
         "1095.0",
         "140.0"
        ],
        [
         "42",
         "Conjunto Comercial/Sala",
         "Recreio dos Bandeirantes",
         "0",
         "1",
         "0",
         "50",
         "1500.0",
         "250.0",
         null
        ],
        [
         "43",
         "Apartamento",
         "Copacabana",
         "4",
         "1",
         "0",
         "244",
         "5000.0",
         "2500.0",
         "4100.0"
        ],
        [
         "44",
         "Apartamento",
         "Barra da Tijuca",
         "3",
         "2",
         "1",
         "110",
         "4500.0",
         "2000.0",
         "450.0"
        ],
        [
         "45",
         "Conjunto Comercial/Sala",
         "Centro",
         "0",
         "0",
         "0",
         "460",
         "7500.0",
         "4797.0",
         "2019.0"
        ],
        [
         "46",
         "Conjunto Comercial/Sala",
         "Centro",
         "0",
         "0",
         "0",
         "1170",
         "140456.0",
         "23409.0",
         "5852.0"
        ],
        [
         "47",
         "Apartamento",
         "Recreio dos Bandeirantes",
         "2",
         "2",
         "2",
         "90",
         "3000.0",
         "1340.0",
         null
        ],
        [
         "48",
         "Apartamento",
         "Recreio dos Bandeirantes",
         "3",
         "2",
         "2",
         "100",
         "2600.0",
         "380.0",
         null
        ],
        [
         "49",
         "Apartamento",
         "Barra da Tijuca",
         "3",
         "1",
         "1",
         "72",
         "2350.0",
         "600.0",
         "70.0"
        ]
       ],
       "shape": {
        "columns": 9,
        "rows": 32960
       }
      },
      "text/html": [
       "<div>\n",
       "<style scoped>\n",
       "    .dataframe tbody tr th:only-of-type {\n",
       "        vertical-align: middle;\n",
       "    }\n",
       "\n",
       "    .dataframe tbody tr th {\n",
       "        vertical-align: top;\n",
       "    }\n",
       "\n",
       "    .dataframe thead th {\n",
       "        text-align: right;\n",
       "    }\n",
       "</style>\n",
       "<table border=\"1\" class=\"dataframe\">\n",
       "  <thead>\n",
       "    <tr style=\"text-align: right;\">\n",
       "      <th></th>\n",
       "      <th>Tipo</th>\n",
       "      <th>Bairro</th>\n",
       "      <th>Quartos</th>\n",
       "      <th>Vagas</th>\n",
       "      <th>Suites</th>\n",
       "      <th>Area</th>\n",
       "      <th>Valor</th>\n",
       "      <th>Condominio</th>\n",
       "      <th>IPTU</th>\n",
       "    </tr>\n",
       "  </thead>\n",
       "  <tbody>\n",
       "    <tr>\n",
       "      <th>0</th>\n",
       "      <td>Quitinete</td>\n",
       "      <td>Copacabana</td>\n",
       "      <td>1</td>\n",
       "      <td>0</td>\n",
       "      <td>0</td>\n",
       "      <td>40</td>\n",
       "      <td>1700.0</td>\n",
       "      <td>500.0</td>\n",
       "      <td>60.0</td>\n",
       "    </tr>\n",
       "    <tr>\n",
       "      <th>1</th>\n",
       "      <td>Casa</td>\n",
       "      <td>Jardim Botânico</td>\n",
       "      <td>2</td>\n",
       "      <td>0</td>\n",
       "      <td>1</td>\n",
       "      <td>100</td>\n",
       "      <td>7000.0</td>\n",
       "      <td>NaN</td>\n",
       "      <td>NaN</td>\n",
       "    </tr>\n",
       "    <tr>\n",
       "      <th>2</th>\n",
       "      <td>Conjunto Comercial/Sala</td>\n",
       "      <td>Barra da Tijuca</td>\n",
       "      <td>0</td>\n",
       "      <td>4</td>\n",
       "      <td>0</td>\n",
       "      <td>150</td>\n",
       "      <td>5200.0</td>\n",
       "      <td>4020.0</td>\n",
       "      <td>1111.0</td>\n",
       "    </tr>\n",
       "    <tr>\n",
       "      <th>3</th>\n",
       "      <td>Apartamento</td>\n",
       "      <td>Centro</td>\n",
       "      <td>1</td>\n",
       "      <td>0</td>\n",
       "      <td>0</td>\n",
       "      <td>15</td>\n",
       "      <td>800.0</td>\n",
       "      <td>390.0</td>\n",
       "      <td>20.0</td>\n",
       "    </tr>\n",
       "    <tr>\n",
       "      <th>4</th>\n",
       "      <td>Apartamento</td>\n",
       "      <td>Higienópolis</td>\n",
       "      <td>1</td>\n",
       "      <td>0</td>\n",
       "      <td>0</td>\n",
       "      <td>48</td>\n",
       "      <td>800.0</td>\n",
       "      <td>230.0</td>\n",
       "      <td>NaN</td>\n",
       "    </tr>\n",
       "    <tr>\n",
       "      <th>...</th>\n",
       "      <td>...</td>\n",
       "      <td>...</td>\n",
       "      <td>...</td>\n",
       "      <td>...</td>\n",
       "      <td>...</td>\n",
       "      <td>...</td>\n",
       "      <td>...</td>\n",
       "      <td>...</td>\n",
       "      <td>...</td>\n",
       "    </tr>\n",
       "    <tr>\n",
       "      <th>32955</th>\n",
       "      <td>Quitinete</td>\n",
       "      <td>Centro</td>\n",
       "      <td>0</td>\n",
       "      <td>0</td>\n",
       "      <td>0</td>\n",
       "      <td>27</td>\n",
       "      <td>800.0</td>\n",
       "      <td>350.0</td>\n",
       "      <td>25.0</td>\n",
       "    </tr>\n",
       "    <tr>\n",
       "      <th>32956</th>\n",
       "      <td>Apartamento</td>\n",
       "      <td>Jacarepaguá</td>\n",
       "      <td>3</td>\n",
       "      <td>1</td>\n",
       "      <td>2</td>\n",
       "      <td>78</td>\n",
       "      <td>1800.0</td>\n",
       "      <td>800.0</td>\n",
       "      <td>40.0</td>\n",
       "    </tr>\n",
       "    <tr>\n",
       "      <th>32957</th>\n",
       "      <td>Apartamento</td>\n",
       "      <td>São Francisco Xavier</td>\n",
       "      <td>2</td>\n",
       "      <td>1</td>\n",
       "      <td>0</td>\n",
       "      <td>48</td>\n",
       "      <td>1400.0</td>\n",
       "      <td>509.0</td>\n",
       "      <td>37.0</td>\n",
       "    </tr>\n",
       "    <tr>\n",
       "      <th>32958</th>\n",
       "      <td>Apartamento</td>\n",
       "      <td>Leblon</td>\n",
       "      <td>2</td>\n",
       "      <td>0</td>\n",
       "      <td>0</td>\n",
       "      <td>70</td>\n",
       "      <td>3000.0</td>\n",
       "      <td>760.0</td>\n",
       "      <td>NaN</td>\n",
       "    </tr>\n",
       "    <tr>\n",
       "      <th>32959</th>\n",
       "      <td>Conjunto Comercial/Sala</td>\n",
       "      <td>Centro</td>\n",
       "      <td>0</td>\n",
       "      <td>0</td>\n",
       "      <td>0</td>\n",
       "      <td>250</td>\n",
       "      <td>6500.0</td>\n",
       "      <td>4206.0</td>\n",
       "      <td>1109.0</td>\n",
       "    </tr>\n",
       "  </tbody>\n",
       "</table>\n",
       "<p>32960 rows × 9 columns</p>\n",
       "</div>"
      ],
      "text/plain": [
       "                          Tipo                Bairro  Quartos  Vagas  Suites  \\\n",
       "0                    Quitinete            Copacabana        1      0       0   \n",
       "1                         Casa       Jardim Botânico        2      0       1   \n",
       "2      Conjunto Comercial/Sala       Barra da Tijuca        0      4       0   \n",
       "3                  Apartamento                Centro        1      0       0   \n",
       "4                  Apartamento          Higienópolis        1      0       0   \n",
       "...                        ...                   ...      ...    ...     ...   \n",
       "32955                Quitinete                Centro        0      0       0   \n",
       "32956              Apartamento           Jacarepaguá        3      1       2   \n",
       "32957              Apartamento  São Francisco Xavier        2      1       0   \n",
       "32958              Apartamento                Leblon        2      0       0   \n",
       "32959  Conjunto Comercial/Sala                Centro        0      0       0   \n",
       "\n",
       "       Area   Valor  Condominio    IPTU  \n",
       "0        40  1700.0       500.0    60.0  \n",
       "1       100  7000.0         NaN     NaN  \n",
       "2       150  5200.0      4020.0  1111.0  \n",
       "3        15   800.0       390.0    20.0  \n",
       "4        48   800.0       230.0     NaN  \n",
       "...     ...     ...         ...     ...  \n",
       "32955    27   800.0       350.0    25.0  \n",
       "32956    78  1800.0       800.0    40.0  \n",
       "32957    48  1400.0       509.0    37.0  \n",
       "32958    70  3000.0       760.0     NaN  \n",
       "32959   250  6500.0      4206.0  1109.0  \n",
       "\n",
       "[32960 rows x 9 columns]"
      ]
     },
     "execution_count": 47,
     "metadata": {},
     "output_type": "execute_result"
    }
   ],
   "source": [
    "import pandas as pd\n",
    "import numpy as np\n",
    "import matplotlib.pyplot as plt\n",
    "\n",
    "# Carregando a base de dados\n",
    "# Aluguel de imóveis residenciais - Brasil\n",
    "\n",
    "dados = pd.read_csv(\n",
    "    \"https://raw.githubusercontent.com/alura-cursos/pandas-conhecendo-a-biblioteca/main/base-de-dados/aluguel.csv\",\n",
    "    delimiter=\";\",\n",
    ")\n",
    "\n",
    "# outro metodo de carregar a base de dados\n",
    "# url = \"https://raw.githubusercontent.com/alura-cursos/pandas-conhecendo-a-biblioteca/main/base-de-dados/aluguel.csv\"\n",
    "\n",
    "# dados = pd.read_csv(url, sep=\";\")\n",
    "dados"
   ]
  },
  {
   "cell_type": "markdown",
   "id": "07edde42",
   "metadata": {},
   "source": [
    "Os dados de alugueis possuem 32.960 linhas e 9 colunas"
   ]
  },
  {
   "cell_type": "code",
   "execution_count": 48,
   "id": "2b7fb085",
   "metadata": {},
   "outputs": [
    {
     "data": {
      "application/vnd.microsoft.datawrangler.viewer.v0+json": {
       "columns": [
        {
         "name": "index",
         "rawType": "int64",
         "type": "integer"
        },
        {
         "name": "Tipo",
         "rawType": "object",
         "type": "string"
        },
        {
         "name": "Bairro",
         "rawType": "object",
         "type": "string"
        },
        {
         "name": "Quartos",
         "rawType": "int64",
         "type": "integer"
        },
        {
         "name": "Vagas",
         "rawType": "int64",
         "type": "integer"
        },
        {
         "name": "Suites",
         "rawType": "int64",
         "type": "integer"
        },
        {
         "name": "Area",
         "rawType": "int64",
         "type": "integer"
        },
        {
         "name": "Valor",
         "rawType": "float64",
         "type": "float"
        },
        {
         "name": "Condominio",
         "rawType": "float64",
         "type": "float"
        },
        {
         "name": "IPTU",
         "rawType": "float64",
         "type": "float"
        }
       ],
       "conversionMethod": "pd.DataFrame",
       "ref": "d5d1c7fc-b961-4342-bf76-ce28d3d3d7ce",
       "rows": [
        [
         "0",
         "Quitinete",
         "Copacabana",
         "1",
         "0",
         "0",
         "40",
         "1700.0",
         "500.0",
         "60.0"
        ],
        [
         "1",
         "Casa",
         "Jardim Botânico",
         "2",
         "0",
         "1",
         "100",
         "7000.0",
         null,
         null
        ],
        [
         "2",
         "Conjunto Comercial/Sala",
         "Barra da Tijuca",
         "0",
         "4",
         "0",
         "150",
         "5200.0",
         "4020.0",
         "1111.0"
        ],
        [
         "3",
         "Apartamento",
         "Centro",
         "1",
         "0",
         "0",
         "15",
         "800.0",
         "390.0",
         "20.0"
        ],
        [
         "4",
         "Apartamento",
         "Higienópolis",
         "1",
         "0",
         "0",
         "48",
         "800.0",
         "230.0",
         null
        ]
       ],
       "shape": {
        "columns": 9,
        "rows": 5
       }
      },
      "text/html": [
       "<div>\n",
       "<style scoped>\n",
       "    .dataframe tbody tr th:only-of-type {\n",
       "        vertical-align: middle;\n",
       "    }\n",
       "\n",
       "    .dataframe tbody tr th {\n",
       "        vertical-align: top;\n",
       "    }\n",
       "\n",
       "    .dataframe thead th {\n",
       "        text-align: right;\n",
       "    }\n",
       "</style>\n",
       "<table border=\"1\" class=\"dataframe\">\n",
       "  <thead>\n",
       "    <tr style=\"text-align: right;\">\n",
       "      <th></th>\n",
       "      <th>Tipo</th>\n",
       "      <th>Bairro</th>\n",
       "      <th>Quartos</th>\n",
       "      <th>Vagas</th>\n",
       "      <th>Suites</th>\n",
       "      <th>Area</th>\n",
       "      <th>Valor</th>\n",
       "      <th>Condominio</th>\n",
       "      <th>IPTU</th>\n",
       "    </tr>\n",
       "  </thead>\n",
       "  <tbody>\n",
       "    <tr>\n",
       "      <th>0</th>\n",
       "      <td>Quitinete</td>\n",
       "      <td>Copacabana</td>\n",
       "      <td>1</td>\n",
       "      <td>0</td>\n",
       "      <td>0</td>\n",
       "      <td>40</td>\n",
       "      <td>1700.0</td>\n",
       "      <td>500.0</td>\n",
       "      <td>60.0</td>\n",
       "    </tr>\n",
       "    <tr>\n",
       "      <th>1</th>\n",
       "      <td>Casa</td>\n",
       "      <td>Jardim Botânico</td>\n",
       "      <td>2</td>\n",
       "      <td>0</td>\n",
       "      <td>1</td>\n",
       "      <td>100</td>\n",
       "      <td>7000.0</td>\n",
       "      <td>NaN</td>\n",
       "      <td>NaN</td>\n",
       "    </tr>\n",
       "    <tr>\n",
       "      <th>2</th>\n",
       "      <td>Conjunto Comercial/Sala</td>\n",
       "      <td>Barra da Tijuca</td>\n",
       "      <td>0</td>\n",
       "      <td>4</td>\n",
       "      <td>0</td>\n",
       "      <td>150</td>\n",
       "      <td>5200.0</td>\n",
       "      <td>4020.0</td>\n",
       "      <td>1111.0</td>\n",
       "    </tr>\n",
       "    <tr>\n",
       "      <th>3</th>\n",
       "      <td>Apartamento</td>\n",
       "      <td>Centro</td>\n",
       "      <td>1</td>\n",
       "      <td>0</td>\n",
       "      <td>0</td>\n",
       "      <td>15</td>\n",
       "      <td>800.0</td>\n",
       "      <td>390.0</td>\n",
       "      <td>20.0</td>\n",
       "    </tr>\n",
       "    <tr>\n",
       "      <th>4</th>\n",
       "      <td>Apartamento</td>\n",
       "      <td>Higienópolis</td>\n",
       "      <td>1</td>\n",
       "      <td>0</td>\n",
       "      <td>0</td>\n",
       "      <td>48</td>\n",
       "      <td>800.0</td>\n",
       "      <td>230.0</td>\n",
       "      <td>NaN</td>\n",
       "    </tr>\n",
       "  </tbody>\n",
       "</table>\n",
       "</div>"
      ],
      "text/plain": [
       "                      Tipo           Bairro  Quartos  Vagas  Suites  Area  \\\n",
       "0                Quitinete       Copacabana        1      0       0    40   \n",
       "1                     Casa  Jardim Botânico        2      0       1   100   \n",
       "2  Conjunto Comercial/Sala  Barra da Tijuca        0      4       0   150   \n",
       "3              Apartamento           Centro        1      0       0    15   \n",
       "4              Apartamento     Higienópolis        1      0       0    48   \n",
       "\n",
       "    Valor  Condominio    IPTU  \n",
       "0  1700.0       500.0    60.0  \n",
       "1  7000.0         NaN     NaN  \n",
       "2  5200.0      4020.0  1111.0  \n",
       "3   800.0       390.0    20.0  \n",
       "4   800.0       230.0     NaN  "
      ]
     },
     "execution_count": 48,
     "metadata": {},
     "output_type": "execute_result"
    }
   ],
   "source": [
    "dados.head()  # Exibe as 5 primeiras linhas do DataFrame"
   ]
  },
  {
   "cell_type": "code",
   "execution_count": 49,
   "id": "a6eaa8cd",
   "metadata": {},
   "outputs": [
    {
     "data": {
      "application/vnd.microsoft.datawrangler.viewer.v0+json": {
       "columns": [
        {
         "name": "index",
         "rawType": "int64",
         "type": "integer"
        },
        {
         "name": "Tipo",
         "rawType": "object",
         "type": "string"
        },
        {
         "name": "Bairro",
         "rawType": "object",
         "type": "string"
        },
        {
         "name": "Quartos",
         "rawType": "int64",
         "type": "integer"
        },
        {
         "name": "Vagas",
         "rawType": "int64",
         "type": "integer"
        },
        {
         "name": "Suites",
         "rawType": "int64",
         "type": "integer"
        },
        {
         "name": "Area",
         "rawType": "int64",
         "type": "integer"
        },
        {
         "name": "Valor",
         "rawType": "float64",
         "type": "float"
        },
        {
         "name": "Condominio",
         "rawType": "float64",
         "type": "float"
        },
        {
         "name": "IPTU",
         "rawType": "float64",
         "type": "float"
        }
       ],
       "conversionMethod": "pd.DataFrame",
       "ref": "5b49e6df-23a1-4e34-8d6c-2ecfda56dcd6",
       "rows": [
        [
         "32955",
         "Quitinete",
         "Centro",
         "0",
         "0",
         "0",
         "27",
         "800.0",
         "350.0",
         "25.0"
        ],
        [
         "32956",
         "Apartamento",
         "Jacarepaguá",
         "3",
         "1",
         "2",
         "78",
         "1800.0",
         "800.0",
         "40.0"
        ],
        [
         "32957",
         "Apartamento",
         "São Francisco Xavier",
         "2",
         "1",
         "0",
         "48",
         "1400.0",
         "509.0",
         "37.0"
        ],
        [
         "32958",
         "Apartamento",
         "Leblon",
         "2",
         "0",
         "0",
         "70",
         "3000.0",
         "760.0",
         null
        ],
        [
         "32959",
         "Conjunto Comercial/Sala",
         "Centro",
         "0",
         "0",
         "0",
         "250",
         "6500.0",
         "4206.0",
         "1109.0"
        ]
       ],
       "shape": {
        "columns": 9,
        "rows": 5
       }
      },
      "text/html": [
       "<div>\n",
       "<style scoped>\n",
       "    .dataframe tbody tr th:only-of-type {\n",
       "        vertical-align: middle;\n",
       "    }\n",
       "\n",
       "    .dataframe tbody tr th {\n",
       "        vertical-align: top;\n",
       "    }\n",
       "\n",
       "    .dataframe thead th {\n",
       "        text-align: right;\n",
       "    }\n",
       "</style>\n",
       "<table border=\"1\" class=\"dataframe\">\n",
       "  <thead>\n",
       "    <tr style=\"text-align: right;\">\n",
       "      <th></th>\n",
       "      <th>Tipo</th>\n",
       "      <th>Bairro</th>\n",
       "      <th>Quartos</th>\n",
       "      <th>Vagas</th>\n",
       "      <th>Suites</th>\n",
       "      <th>Area</th>\n",
       "      <th>Valor</th>\n",
       "      <th>Condominio</th>\n",
       "      <th>IPTU</th>\n",
       "    </tr>\n",
       "  </thead>\n",
       "  <tbody>\n",
       "    <tr>\n",
       "      <th>32955</th>\n",
       "      <td>Quitinete</td>\n",
       "      <td>Centro</td>\n",
       "      <td>0</td>\n",
       "      <td>0</td>\n",
       "      <td>0</td>\n",
       "      <td>27</td>\n",
       "      <td>800.0</td>\n",
       "      <td>350.0</td>\n",
       "      <td>25.0</td>\n",
       "    </tr>\n",
       "    <tr>\n",
       "      <th>32956</th>\n",
       "      <td>Apartamento</td>\n",
       "      <td>Jacarepaguá</td>\n",
       "      <td>3</td>\n",
       "      <td>1</td>\n",
       "      <td>2</td>\n",
       "      <td>78</td>\n",
       "      <td>1800.0</td>\n",
       "      <td>800.0</td>\n",
       "      <td>40.0</td>\n",
       "    </tr>\n",
       "    <tr>\n",
       "      <th>32957</th>\n",
       "      <td>Apartamento</td>\n",
       "      <td>São Francisco Xavier</td>\n",
       "      <td>2</td>\n",
       "      <td>1</td>\n",
       "      <td>0</td>\n",
       "      <td>48</td>\n",
       "      <td>1400.0</td>\n",
       "      <td>509.0</td>\n",
       "      <td>37.0</td>\n",
       "    </tr>\n",
       "    <tr>\n",
       "      <th>32958</th>\n",
       "      <td>Apartamento</td>\n",
       "      <td>Leblon</td>\n",
       "      <td>2</td>\n",
       "      <td>0</td>\n",
       "      <td>0</td>\n",
       "      <td>70</td>\n",
       "      <td>3000.0</td>\n",
       "      <td>760.0</td>\n",
       "      <td>NaN</td>\n",
       "    </tr>\n",
       "    <tr>\n",
       "      <th>32959</th>\n",
       "      <td>Conjunto Comercial/Sala</td>\n",
       "      <td>Centro</td>\n",
       "      <td>0</td>\n",
       "      <td>0</td>\n",
       "      <td>0</td>\n",
       "      <td>250</td>\n",
       "      <td>6500.0</td>\n",
       "      <td>4206.0</td>\n",
       "      <td>1109.0</td>\n",
       "    </tr>\n",
       "  </tbody>\n",
       "</table>\n",
       "</div>"
      ],
      "text/plain": [
       "                          Tipo                Bairro  Quartos  Vagas  Suites  \\\n",
       "32955                Quitinete                Centro        0      0       0   \n",
       "32956              Apartamento           Jacarepaguá        3      1       2   \n",
       "32957              Apartamento  São Francisco Xavier        2      1       0   \n",
       "32958              Apartamento                Leblon        2      0       0   \n",
       "32959  Conjunto Comercial/Sala                Centro        0      0       0   \n",
       "\n",
       "       Area   Valor  Condominio    IPTU  \n",
       "32955    27   800.0       350.0    25.0  \n",
       "32956    78  1800.0       800.0    40.0  \n",
       "32957    48  1400.0       509.0    37.0  \n",
       "32958    70  3000.0       760.0     NaN  \n",
       "32959   250  6500.0      4206.0  1109.0  "
      ]
     },
     "execution_count": 49,
     "metadata": {},
     "output_type": "execute_result"
    }
   ],
   "source": [
    "dados.tail()  # Exibe as 5 últimas linhas do DataFrame"
   ]
  },
  {
   "cell_type": "code",
   "execution_count": 50,
   "id": "036e98ed",
   "metadata": {},
   "outputs": [
    {
     "data": {
      "text/plain": [
       "pandas.core.frame.DataFrame"
      ]
     },
     "execution_count": 50,
     "metadata": {},
     "output_type": "execute_result"
    }
   ],
   "source": [
    "type(dados)  # Verifica o tipo do objeto"
   ]
  },
  {
   "cell_type": "markdown",
   "id": "32d95ae6",
   "metadata": {},
   "source": [
    "# Características Gerais da Base de Dados\n",
    "\n",
    "1. Explorando Linhas e Colunas"
   ]
  },
  {
   "cell_type": "code",
   "execution_count": 51,
   "id": "c0c7fd1d",
   "metadata": {},
   "outputs": [
    {
     "data": {
      "text/plain": [
       "(32960, 9)"
      ]
     },
     "execution_count": 51,
     "metadata": {},
     "output_type": "execute_result"
    }
   ],
   "source": [
    "dados.shape  # Verifica o número de linhas e colunas do DataFrame"
   ]
  },
  {
   "cell_type": "code",
   "execution_count": 52,
   "id": "4c829c48",
   "metadata": {},
   "outputs": [
    {
     "data": {
      "text/plain": [
       "Index(['Tipo', 'Bairro', 'Quartos', 'Vagas', 'Suites', 'Area', 'Valor',\n",
       "       'Condominio', 'IPTU'],\n",
       "      dtype='object')"
      ]
     },
     "execution_count": 52,
     "metadata": {},
     "output_type": "execute_result"
    }
   ],
   "source": [
    "dados.columns  # Verifica os nomes das colunas do DataFrame"
   ]
  },
  {
   "cell_type": "code",
   "execution_count": 53,
   "id": "4e9c1586",
   "metadata": {},
   "outputs": [
    {
     "name": "stdout",
     "output_type": "stream",
     "text": [
      "<class 'pandas.core.frame.DataFrame'>\n",
      "RangeIndex: 32960 entries, 0 to 32959\n",
      "Data columns (total 9 columns):\n",
      " #   Column      Non-Null Count  Dtype  \n",
      "---  ------      --------------  -----  \n",
      " 0   Tipo        32960 non-null  object \n",
      " 1   Bairro      32960 non-null  object \n",
      " 2   Quartos     32960 non-null  int64  \n",
      " 3   Vagas       32960 non-null  int64  \n",
      " 4   Suites      32960 non-null  int64  \n",
      " 5   Area        32960 non-null  int64  \n",
      " 6   Valor       32943 non-null  float64\n",
      " 7   Condominio  28867 non-null  float64\n",
      " 8   IPTU        22723 non-null  float64\n",
      "dtypes: float64(3), int64(4), object(2)\n",
      "memory usage: 2.3+ MB\n"
     ]
    }
   ],
   "source": [
    "dados.info()  # Exibe informações gerais do DataFrame"
   ]
  },
  {
   "cell_type": "code",
   "execution_count": 54,
   "id": "1e83c5e1",
   "metadata": {},
   "outputs": [
    {
     "data": {
      "application/vnd.microsoft.datawrangler.viewer.v0+json": {
       "columns": [
        {
         "name": "index",
         "rawType": "int64",
         "type": "integer"
        },
        {
         "name": "Tipo",
         "rawType": "object",
         "type": "string"
        },
        {
         "name": "Bairro",
         "rawType": "object",
         "type": "string"
        }
       ],
       "conversionMethod": "pd.DataFrame",
       "ref": "b97e4aba-efcc-4c40-9580-29e60831a215",
       "rows": [
        [
         "0",
         "Quitinete",
         "Copacabana"
        ],
        [
         "1",
         "Casa",
         "Jardim Botânico"
        ],
        [
         "2",
         "Conjunto Comercial/Sala",
         "Barra da Tijuca"
        ],
        [
         "3",
         "Apartamento",
         "Centro"
        ],
        [
         "4",
         "Apartamento",
         "Higienópolis"
        ],
        [
         "5",
         "Apartamento",
         "Vista Alegre"
        ],
        [
         "6",
         "Apartamento",
         "Cachambi"
        ],
        [
         "7",
         "Casa de Condomínio",
         "Barra da Tijuca"
        ],
        [
         "8",
         "Casa de Condomínio",
         "Ramos"
        ],
        [
         "9",
         "Conjunto Comercial/Sala",
         "Centro"
        ],
        [
         "10",
         "Apartamento",
         "Centro"
        ],
        [
         "11",
         "Apartamento",
         "Grajaú"
        ],
        [
         "12",
         "Apartamento",
         "Lins de Vasconcelos"
        ],
        [
         "13",
         "Apartamento",
         "Copacabana"
        ],
        [
         "14",
         "Quitinete",
         "Copacabana"
        ],
        [
         "15",
         "Apartamento",
         "Copacabana"
        ],
        [
         "16",
         "Prédio Inteiro",
         "Botafogo"
        ],
        [
         "17",
         "Flat",
         "Botafogo"
        ],
        [
         "18",
         "Casa de Condomínio",
         "Taquara"
        ],
        [
         "19",
         "Apartamento",
         "Freguesia (Jacarepaguá)"
        ],
        [
         "20",
         "Apartamento",
         "Barra da Tijuca"
        ],
        [
         "21",
         "Apartamento",
         "Tijuca"
        ],
        [
         "22",
         "Casa de Condomínio",
         "Barra da Tijuca"
        ],
        [
         "23",
         "Apartamento",
         "Olaria"
        ],
        [
         "24",
         "Apartamento",
         "Tijuca"
        ],
        [
         "25",
         "Flat",
         "Leblon"
        ],
        [
         "26",
         "Conjunto Comercial/Sala",
         "São Cristóvão"
        ],
        [
         "27",
         "Apartamento",
         "Ipanema"
        ],
        [
         "28",
         "Apartamento",
         "Tijuca"
        ],
        [
         "29",
         "Loja/Salão",
         "Campo Grande"
        ],
        [
         "30",
         "Apartamento",
         "Barra da Tijuca"
        ],
        [
         "31",
         "Casa",
         "Campo Grande"
        ],
        [
         "32",
         "Apartamento",
         "Botafogo"
        ],
        [
         "33",
         "Apartamento",
         "Copacabana"
        ],
        [
         "34",
         "Apartamento",
         "Copacabana"
        ],
        [
         "35",
         "Conjunto Comercial/Sala",
         "Barra da Tijuca"
        ],
        [
         "36",
         "Apartamento",
         "Recreio dos Bandeirantes"
        ],
        [
         "37",
         "Apartamento",
         "Leblon"
        ],
        [
         "38",
         "Conjunto Comercial/Sala",
         "Centro"
        ],
        [
         "39",
         "Quitinete",
         "Copacabana"
        ],
        [
         "40",
         "Apartamento",
         "Jardim Oceânico"
        ],
        [
         "41",
         "Apartamento",
         "Barra da Tijuca"
        ],
        [
         "42",
         "Conjunto Comercial/Sala",
         "Recreio dos Bandeirantes"
        ],
        [
         "43",
         "Apartamento",
         "Copacabana"
        ],
        [
         "44",
         "Apartamento",
         "Barra da Tijuca"
        ],
        [
         "45",
         "Conjunto Comercial/Sala",
         "Centro"
        ],
        [
         "46",
         "Conjunto Comercial/Sala",
         "Centro"
        ],
        [
         "47",
         "Apartamento",
         "Recreio dos Bandeirantes"
        ],
        [
         "48",
         "Apartamento",
         "Recreio dos Bandeirantes"
        ],
        [
         "49",
         "Apartamento",
         "Barra da Tijuca"
        ]
       ],
       "shape": {
        "columns": 2,
        "rows": 32960
       }
      },
      "text/html": [
       "<div>\n",
       "<style scoped>\n",
       "    .dataframe tbody tr th:only-of-type {\n",
       "        vertical-align: middle;\n",
       "    }\n",
       "\n",
       "    .dataframe tbody tr th {\n",
       "        vertical-align: top;\n",
       "    }\n",
       "\n",
       "    .dataframe thead th {\n",
       "        text-align: right;\n",
       "    }\n",
       "</style>\n",
       "<table border=\"1\" class=\"dataframe\">\n",
       "  <thead>\n",
       "    <tr style=\"text-align: right;\">\n",
       "      <th></th>\n",
       "      <th>Tipo</th>\n",
       "      <th>Bairro</th>\n",
       "    </tr>\n",
       "  </thead>\n",
       "  <tbody>\n",
       "    <tr>\n",
       "      <th>0</th>\n",
       "      <td>Quitinete</td>\n",
       "      <td>Copacabana</td>\n",
       "    </tr>\n",
       "    <tr>\n",
       "      <th>1</th>\n",
       "      <td>Casa</td>\n",
       "      <td>Jardim Botânico</td>\n",
       "    </tr>\n",
       "    <tr>\n",
       "      <th>2</th>\n",
       "      <td>Conjunto Comercial/Sala</td>\n",
       "      <td>Barra da Tijuca</td>\n",
       "    </tr>\n",
       "    <tr>\n",
       "      <th>3</th>\n",
       "      <td>Apartamento</td>\n",
       "      <td>Centro</td>\n",
       "    </tr>\n",
       "    <tr>\n",
       "      <th>4</th>\n",
       "      <td>Apartamento</td>\n",
       "      <td>Higienópolis</td>\n",
       "    </tr>\n",
       "    <tr>\n",
       "      <th>...</th>\n",
       "      <td>...</td>\n",
       "      <td>...</td>\n",
       "    </tr>\n",
       "    <tr>\n",
       "      <th>32955</th>\n",
       "      <td>Quitinete</td>\n",
       "      <td>Centro</td>\n",
       "    </tr>\n",
       "    <tr>\n",
       "      <th>32956</th>\n",
       "      <td>Apartamento</td>\n",
       "      <td>Jacarepaguá</td>\n",
       "    </tr>\n",
       "    <tr>\n",
       "      <th>32957</th>\n",
       "      <td>Apartamento</td>\n",
       "      <td>São Francisco Xavier</td>\n",
       "    </tr>\n",
       "    <tr>\n",
       "      <th>32958</th>\n",
       "      <td>Apartamento</td>\n",
       "      <td>Leblon</td>\n",
       "    </tr>\n",
       "    <tr>\n",
       "      <th>32959</th>\n",
       "      <td>Conjunto Comercial/Sala</td>\n",
       "      <td>Centro</td>\n",
       "    </tr>\n",
       "  </tbody>\n",
       "</table>\n",
       "<p>32960 rows × 2 columns</p>\n",
       "</div>"
      ],
      "text/plain": [
       "                          Tipo                Bairro\n",
       "0                    Quitinete            Copacabana\n",
       "1                         Casa       Jardim Botânico\n",
       "2      Conjunto Comercial/Sala       Barra da Tijuca\n",
       "3                  Apartamento                Centro\n",
       "4                  Apartamento          Higienópolis\n",
       "...                        ...                   ...\n",
       "32955                Quitinete                Centro\n",
       "32956              Apartamento           Jacarepaguá\n",
       "32957              Apartamento  São Francisco Xavier\n",
       "32958              Apartamento                Leblon\n",
       "32959  Conjunto Comercial/Sala                Centro\n",
       "\n",
       "[32960 rows x 2 columns]"
      ]
     },
     "execution_count": 54,
     "metadata": {},
     "output_type": "execute_result"
    }
   ],
   "source": [
    "dados[[\"Tipo\", \"Bairro\"]]  # Acessa a coluna \"Tipo\" e \"Bairro\" do DataFrame"
   ]
  },
  {
   "cell_type": "code",
   "execution_count": 55,
   "id": "306b7c8a",
   "metadata": {},
   "outputs": [
    {
     "data": {
      "application/vnd.microsoft.datawrangler.viewer.v0+json": {
       "columns": [
        {
         "name": "index",
         "rawType": "int64",
         "type": "integer"
        },
        {
         "name": "Quartos",
         "rawType": "int64",
         "type": "integer"
        },
        {
         "name": "Vagas",
         "rawType": "int64",
         "type": "integer"
        },
        {
         "name": "Suites",
         "rawType": "int64",
         "type": "integer"
        },
        {
         "name": "Area",
         "rawType": "int64",
         "type": "integer"
        }
       ],
       "conversionMethod": "pd.DataFrame",
       "ref": "81f1341d-3f3b-4f74-8b4c-78456523926e",
       "rows": [
        [
         "0",
         "1",
         "0",
         "0",
         "40"
        ],
        [
         "1",
         "2",
         "0",
         "1",
         "100"
        ],
        [
         "2",
         "0",
         "4",
         "0",
         "150"
        ],
        [
         "3",
         "1",
         "0",
         "0",
         "15"
        ],
        [
         "4",
         "1",
         "0",
         "0",
         "48"
        ],
        [
         "5",
         "3",
         "1",
         "0",
         "70"
        ],
        [
         "6",
         "2",
         "0",
         "0",
         "50"
        ],
        [
         "7",
         "5",
         "4",
         "5",
         "750"
        ],
        [
         "8",
         "2",
         "2",
         "0",
         "65"
        ],
        [
         "9",
         "0",
         "3",
         "0",
         "695"
        ],
        [
         "10",
         "1",
         "0",
         "0",
         "36"
        ],
        [
         "11",
         "2",
         "1",
         "0",
         "70"
        ],
        [
         "12",
         "3",
         "1",
         "1",
         "90"
        ],
        [
         "13",
         "1",
         "0",
         "1",
         "40"
        ],
        [
         "14",
         "1",
         "0",
         "0",
         "27"
        ],
        [
         "15",
         "4",
         "3",
         "1",
         "243"
        ],
        [
         "16",
         "0",
         "0",
         "0",
         "536"
        ],
        [
         "17",
         "3",
         "1",
         "1",
         "80"
        ],
        [
         "18",
         "3",
         "1",
         "1",
         "115"
        ],
        [
         "19",
         "3",
         "0",
         "0",
         "54"
        ],
        [
         "20",
         "2",
         "1",
         "1",
         "67"
        ],
        [
         "21",
         "2",
         "1",
         "0",
         "110"
        ],
        [
         "22",
         "4",
         "3",
         "2",
         "466"
        ],
        [
         "23",
         "3",
         "1",
         "0",
         "68"
        ],
        [
         "24",
         "2",
         "1",
         "0",
         "78"
        ],
        [
         "25",
         "1",
         "0",
         "0",
         "56"
        ],
        [
         "26",
         "0",
         "1",
         "0",
         "25"
        ],
        [
         "27",
         "3",
         "1",
         "1",
         "125"
        ],
        [
         "28",
         "1",
         "0",
         "0",
         "48"
        ],
        [
         "29",
         "0",
         "1",
         "0",
         "35"
        ],
        [
         "30",
         "3",
         "3",
         "1",
         "175"
        ],
        [
         "31",
         "4",
         "1",
         "2",
         "400"
        ],
        [
         "32",
         "2",
         "1",
         "0",
         "76"
        ],
        [
         "33",
         "3",
         "1",
         "2",
         "378"
        ],
        [
         "34",
         "3",
         "0",
         "0",
         "180"
        ],
        [
         "35",
         "0",
         "1",
         "0",
         "22"
        ],
        [
         "36",
         "3",
         "1",
         "1",
         "105"
        ],
        [
         "37",
         "3",
         "1",
         "0",
         "110"
        ],
        [
         "38",
         "0",
         "5",
         "0",
         "1306"
        ],
        [
         "39",
         "1",
         "0",
         "0",
         "27"
        ],
        [
         "40",
         "3",
         "3",
         "1",
         "200"
        ],
        [
         "41",
         "3",
         "1",
         "2",
         "70"
        ],
        [
         "42",
         "0",
         "1",
         "0",
         "50"
        ],
        [
         "43",
         "4",
         "1",
         "0",
         "244"
        ],
        [
         "44",
         "3",
         "2",
         "1",
         "110"
        ],
        [
         "45",
         "0",
         "0",
         "0",
         "460"
        ],
        [
         "46",
         "0",
         "0",
         "0",
         "1170"
        ],
        [
         "47",
         "2",
         "2",
         "2",
         "90"
        ],
        [
         "48",
         "3",
         "2",
         "2",
         "100"
        ],
        [
         "49",
         "3",
         "1",
         "1",
         "72"
        ]
       ],
       "shape": {
        "columns": 4,
        "rows": 32960
       }
      },
      "text/html": [
       "<div>\n",
       "<style scoped>\n",
       "    .dataframe tbody tr th:only-of-type {\n",
       "        vertical-align: middle;\n",
       "    }\n",
       "\n",
       "    .dataframe tbody tr th {\n",
       "        vertical-align: top;\n",
       "    }\n",
       "\n",
       "    .dataframe thead th {\n",
       "        text-align: right;\n",
       "    }\n",
       "</style>\n",
       "<table border=\"1\" class=\"dataframe\">\n",
       "  <thead>\n",
       "    <tr style=\"text-align: right;\">\n",
       "      <th></th>\n",
       "      <th>Quartos</th>\n",
       "      <th>Vagas</th>\n",
       "      <th>Suites</th>\n",
       "      <th>Area</th>\n",
       "    </tr>\n",
       "  </thead>\n",
       "  <tbody>\n",
       "    <tr>\n",
       "      <th>0</th>\n",
       "      <td>1</td>\n",
       "      <td>0</td>\n",
       "      <td>0</td>\n",
       "      <td>40</td>\n",
       "    </tr>\n",
       "    <tr>\n",
       "      <th>1</th>\n",
       "      <td>2</td>\n",
       "      <td>0</td>\n",
       "      <td>1</td>\n",
       "      <td>100</td>\n",
       "    </tr>\n",
       "    <tr>\n",
       "      <th>2</th>\n",
       "      <td>0</td>\n",
       "      <td>4</td>\n",
       "      <td>0</td>\n",
       "      <td>150</td>\n",
       "    </tr>\n",
       "    <tr>\n",
       "      <th>3</th>\n",
       "      <td>1</td>\n",
       "      <td>0</td>\n",
       "      <td>0</td>\n",
       "      <td>15</td>\n",
       "    </tr>\n",
       "    <tr>\n",
       "      <th>4</th>\n",
       "      <td>1</td>\n",
       "      <td>0</td>\n",
       "      <td>0</td>\n",
       "      <td>48</td>\n",
       "    </tr>\n",
       "    <tr>\n",
       "      <th>...</th>\n",
       "      <td>...</td>\n",
       "      <td>...</td>\n",
       "      <td>...</td>\n",
       "      <td>...</td>\n",
       "    </tr>\n",
       "    <tr>\n",
       "      <th>32955</th>\n",
       "      <td>0</td>\n",
       "      <td>0</td>\n",
       "      <td>0</td>\n",
       "      <td>27</td>\n",
       "    </tr>\n",
       "    <tr>\n",
       "      <th>32956</th>\n",
       "      <td>3</td>\n",
       "      <td>1</td>\n",
       "      <td>2</td>\n",
       "      <td>78</td>\n",
       "    </tr>\n",
       "    <tr>\n",
       "      <th>32957</th>\n",
       "      <td>2</td>\n",
       "      <td>1</td>\n",
       "      <td>0</td>\n",
       "      <td>48</td>\n",
       "    </tr>\n",
       "    <tr>\n",
       "      <th>32958</th>\n",
       "      <td>2</td>\n",
       "      <td>0</td>\n",
       "      <td>0</td>\n",
       "      <td>70</td>\n",
       "    </tr>\n",
       "    <tr>\n",
       "      <th>32959</th>\n",
       "      <td>0</td>\n",
       "      <td>0</td>\n",
       "      <td>0</td>\n",
       "      <td>250</td>\n",
       "    </tr>\n",
       "  </tbody>\n",
       "</table>\n",
       "<p>32960 rows × 4 columns</p>\n",
       "</div>"
      ],
      "text/plain": [
       "       Quartos  Vagas  Suites  Area\n",
       "0            1      0       0    40\n",
       "1            2      0       1   100\n",
       "2            0      4       0   150\n",
       "3            1      0       0    15\n",
       "4            1      0       0    48\n",
       "...        ...    ...     ...   ...\n",
       "32955        0      0       0    27\n",
       "32956        3      1       2    78\n",
       "32957        2      1       0    48\n",
       "32958        2      0       0    70\n",
       "32959        0      0       0   250\n",
       "\n",
       "[32960 rows x 4 columns]"
      ]
     },
     "execution_count": 55,
     "metadata": {},
     "output_type": "execute_result"
    }
   ],
   "source": [
    "dados[\n",
    "    [\"Quartos\", \"Vagas\", \"Suites\", \"Area\"]\n",
    "]  # Acessa a coluna \"Quartos\", \"Vagas\", \"Suites\" e \"Area\" do DataFrame"
   ]
  },
  {
   "cell_type": "code",
   "execution_count": 56,
   "id": "ec8569e9",
   "metadata": {},
   "outputs": [
    {
     "data": {
      "application/vnd.microsoft.datawrangler.viewer.v0+json": {
       "columns": [
        {
         "name": "index",
         "rawType": "int64",
         "type": "integer"
        },
        {
         "name": "Valor",
         "rawType": "float64",
         "type": "float"
        },
        {
         "name": "Condominio",
         "rawType": "float64",
         "type": "float"
        },
        {
         "name": "IPTU",
         "rawType": "float64",
         "type": "float"
        }
       ],
       "conversionMethod": "pd.DataFrame",
       "ref": "d3cd5df6-812f-411b-b9a8-981badddeaf8",
       "rows": [
        [
         "0",
         "1700.0",
         "500.0",
         "60.0"
        ],
        [
         "1",
         "7000.0",
         null,
         null
        ],
        [
         "2",
         "5200.0",
         "4020.0",
         "1111.0"
        ],
        [
         "3",
         "800.0",
         "390.0",
         "20.0"
        ],
        [
         "4",
         "800.0",
         "230.0",
         null
        ],
        [
         "5",
         "1200.0",
         null,
         null
        ],
        [
         "6",
         "1300.0",
         "301.0",
         "17.0"
        ],
        [
         "7",
         "22000.0",
         null,
         null
        ],
        [
         "8",
         "1000.0",
         null,
         null
        ],
        [
         "9",
         "35000.0",
         "19193.0",
         "3030.0"
        ],
        [
         "10",
         "1200.0",
         null,
         null
        ],
        [
         "11",
         "1500.0",
         "642.0",
         "74.0"
        ],
        [
         "12",
         "1500.0",
         "455.0",
         "14.0"
        ],
        [
         "13",
         "2000.0",
         "561.0",
         "50.0"
        ],
        [
         "14",
         "1800.0",
         "501.0",
         null
        ],
        [
         "15",
         "13000.0",
         "2000.0",
         "803.0"
        ],
        [
         "16",
         "28000.0",
         null,
         "3563.0"
        ],
        [
         "17",
         "3800.0",
         "1040.0",
         null
        ],
        [
         "18",
         "2000.0",
         null,
         null
        ],
        [
         "19",
         "950.0",
         "300.0",
         "28.0"
        ],
        [
         "20",
         "1700.0",
         "589.0",
         "147.0"
        ],
        [
         "21",
         "1900.0",
         "700.0",
         "138.0"
        ],
        [
         "22",
         "7500.0",
         "2695.0",
         null
        ],
        [
         "23",
         "1000.0",
         "670.0",
         null
        ],
        [
         "24",
         "2000.0",
         "700.0",
         null
        ],
        [
         "25",
         "4500.0",
         "1900.0",
         "1500.0"
        ],
        [
         "26",
         "1100.0",
         "600.0",
         null
        ],
        [
         "27",
         "7000.0",
         "2100.0",
         "463.0"
        ],
        [
         "28",
         "750.0",
         "772.0",
         "25.0"
        ],
        [
         "29",
         "1300.0",
         "950.0",
         null
        ],
        [
         "30",
         "4200.0",
         "1500.0",
         "500.0"
        ],
        [
         "31",
         "12000.0",
         null,
         null
        ],
        [
         "32",
         "2500.0",
         "740.0",
         null
        ],
        [
         "33",
         "10000.0",
         "2150.0",
         "700.0"
        ],
        [
         "34",
         "5500.0",
         "1780.0",
         "420.0"
        ],
        [
         "35",
         "700.0",
         null,
         null
        ],
        [
         "36",
         "2300.0",
         "648.0",
         null
        ],
        [
         "37",
         "3900.0",
         "1500.0",
         "120.0"
        ],
        [
         "38",
         "117540.0",
         "19486.0",
         null
        ],
        [
         "39",
         "1300.0",
         "380.0",
         "53.0"
        ],
        [
         "40",
         "3500.0",
         "1780.0",
         "496.0"
        ],
        [
         "41",
         "1800.0",
         "1095.0",
         "140.0"
        ],
        [
         "42",
         "1500.0",
         "250.0",
         null
        ],
        [
         "43",
         "5000.0",
         "2500.0",
         "4100.0"
        ],
        [
         "44",
         "4500.0",
         "2000.0",
         "450.0"
        ],
        [
         "45",
         "7500.0",
         "4797.0",
         "2019.0"
        ],
        [
         "46",
         "140456.0",
         "23409.0",
         "5852.0"
        ],
        [
         "47",
         "3000.0",
         "1340.0",
         null
        ],
        [
         "48",
         "2600.0",
         "380.0",
         null
        ],
        [
         "49",
         "2350.0",
         "600.0",
         "70.0"
        ]
       ],
       "shape": {
        "columns": 3,
        "rows": 32960
       }
      },
      "text/html": [
       "<div>\n",
       "<style scoped>\n",
       "    .dataframe tbody tr th:only-of-type {\n",
       "        vertical-align: middle;\n",
       "    }\n",
       "\n",
       "    .dataframe tbody tr th {\n",
       "        vertical-align: top;\n",
       "    }\n",
       "\n",
       "    .dataframe thead th {\n",
       "        text-align: right;\n",
       "    }\n",
       "</style>\n",
       "<table border=\"1\" class=\"dataframe\">\n",
       "  <thead>\n",
       "    <tr style=\"text-align: right;\">\n",
       "      <th></th>\n",
       "      <th>Valor</th>\n",
       "      <th>Condominio</th>\n",
       "      <th>IPTU</th>\n",
       "    </tr>\n",
       "  </thead>\n",
       "  <tbody>\n",
       "    <tr>\n",
       "      <th>0</th>\n",
       "      <td>1700.0</td>\n",
       "      <td>500.0</td>\n",
       "      <td>60.0</td>\n",
       "    </tr>\n",
       "    <tr>\n",
       "      <th>1</th>\n",
       "      <td>7000.0</td>\n",
       "      <td>NaN</td>\n",
       "      <td>NaN</td>\n",
       "    </tr>\n",
       "    <tr>\n",
       "      <th>2</th>\n",
       "      <td>5200.0</td>\n",
       "      <td>4020.0</td>\n",
       "      <td>1111.0</td>\n",
       "    </tr>\n",
       "    <tr>\n",
       "      <th>3</th>\n",
       "      <td>800.0</td>\n",
       "      <td>390.0</td>\n",
       "      <td>20.0</td>\n",
       "    </tr>\n",
       "    <tr>\n",
       "      <th>4</th>\n",
       "      <td>800.0</td>\n",
       "      <td>230.0</td>\n",
       "      <td>NaN</td>\n",
       "    </tr>\n",
       "    <tr>\n",
       "      <th>...</th>\n",
       "      <td>...</td>\n",
       "      <td>...</td>\n",
       "      <td>...</td>\n",
       "    </tr>\n",
       "    <tr>\n",
       "      <th>32955</th>\n",
       "      <td>800.0</td>\n",
       "      <td>350.0</td>\n",
       "      <td>25.0</td>\n",
       "    </tr>\n",
       "    <tr>\n",
       "      <th>32956</th>\n",
       "      <td>1800.0</td>\n",
       "      <td>800.0</td>\n",
       "      <td>40.0</td>\n",
       "    </tr>\n",
       "    <tr>\n",
       "      <th>32957</th>\n",
       "      <td>1400.0</td>\n",
       "      <td>509.0</td>\n",
       "      <td>37.0</td>\n",
       "    </tr>\n",
       "    <tr>\n",
       "      <th>32958</th>\n",
       "      <td>3000.0</td>\n",
       "      <td>760.0</td>\n",
       "      <td>NaN</td>\n",
       "    </tr>\n",
       "    <tr>\n",
       "      <th>32959</th>\n",
       "      <td>6500.0</td>\n",
       "      <td>4206.0</td>\n",
       "      <td>1109.0</td>\n",
       "    </tr>\n",
       "  </tbody>\n",
       "</table>\n",
       "<p>32960 rows × 3 columns</p>\n",
       "</div>"
      ],
      "text/plain": [
       "        Valor  Condominio    IPTU\n",
       "0      1700.0       500.0    60.0\n",
       "1      7000.0         NaN     NaN\n",
       "2      5200.0      4020.0  1111.0\n",
       "3       800.0       390.0    20.0\n",
       "4       800.0       230.0     NaN\n",
       "...       ...         ...     ...\n",
       "32955   800.0       350.0    25.0\n",
       "32956  1800.0       800.0    40.0\n",
       "32957  1400.0       509.0    37.0\n",
       "32958  3000.0       760.0     NaN\n",
       "32959  6500.0      4206.0  1109.0\n",
       "\n",
       "[32960 rows x 3 columns]"
      ]
     },
     "execution_count": 56,
     "metadata": {},
     "output_type": "execute_result"
    }
   ],
   "source": [
    "dados[\n",
    "    [\"Valor\", \"Condominio\", \"IPTU\"]\n",
    "]  # Acessa a coluna \"Valor\", \"Condominio\" e \"IPTU\" do DataFrame"
   ]
  },
  {
   "cell_type": "code",
   "execution_count": 57,
   "id": "7289ecce",
   "metadata": {},
   "outputs": [
    {
     "data": {
      "application/vnd.microsoft.datawrangler.viewer.v0+json": {
       "columns": [
        {
         "name": "index",
         "rawType": "object",
         "type": "string"
        },
        {
         "name": "Quartos",
         "rawType": "float64",
         "type": "float"
        },
        {
         "name": "Vagas",
         "rawType": "float64",
         "type": "float"
        },
        {
         "name": "Suites",
         "rawType": "float64",
         "type": "float"
        },
        {
         "name": "Area",
         "rawType": "float64",
         "type": "float"
        },
        {
         "name": "Valor",
         "rawType": "float64",
         "type": "float"
        },
        {
         "name": "Condominio",
         "rawType": "float64",
         "type": "float"
        },
        {
         "name": "IPTU",
         "rawType": "float64",
         "type": "float"
        }
       ],
       "conversionMethod": "pd.DataFrame",
       "ref": "9ed376e5-323c-479a-b2a1-57e01b0a73fd",
       "rows": [
        [
         "count",
         "32960.0",
         "32960.0",
         "32960.0",
         "32960.0",
         "32943.0",
         "28867.0",
         "22723.0"
        ],
        [
         "mean",
         "1.7713895631067962",
         "1.7490594660194174",
         "0.6657766990291262",
         "231.9015473300971",
         "12952.659715265761",
         "2388.0624242214294",
         "2364.4095850019803"
        ],
        [
         "std",
         "1.7178687849639511",
         "20.38040150541978",
         "1.1765247843440272",
         "1135.2541521229282",
         "667521.9694189356",
         "39184.959614545216",
         "179564.06289745859"
        ],
        [
         "min",
         "0.0",
         "0.0",
         "0.0",
         "0.0",
         "75.0",
         "1.0",
         "1.0"
        ],
        [
         "25%",
         "0.0",
         "0.0",
         "0.0",
         "55.0",
         "1500.0",
         "590.0",
         "110.0"
        ],
        [
         "50%",
         "2.0",
         "1.0",
         "0.0",
         "87.0",
         "2800.0",
         "990.0",
         "250.0"
        ],
        [
         "75%",
         "3.0",
         "2.0",
         "1.0",
         "170.0",
         "6500.0",
         "1800.0",
         "697.0"
        ],
        [
         "max",
         "100.0",
         "1966.0",
         "70.0",
         "90000.0",
         "120000000.0",
         "6552570.0",
         "27053070.0"
        ]
       ],
       "shape": {
        "columns": 7,
        "rows": 8
       }
      },
      "text/html": [
       "<div>\n",
       "<style scoped>\n",
       "    .dataframe tbody tr th:only-of-type {\n",
       "        vertical-align: middle;\n",
       "    }\n",
       "\n",
       "    .dataframe tbody tr th {\n",
       "        vertical-align: top;\n",
       "    }\n",
       "\n",
       "    .dataframe thead th {\n",
       "        text-align: right;\n",
       "    }\n",
       "</style>\n",
       "<table border=\"1\" class=\"dataframe\">\n",
       "  <thead>\n",
       "    <tr style=\"text-align: right;\">\n",
       "      <th></th>\n",
       "      <th>Quartos</th>\n",
       "      <th>Vagas</th>\n",
       "      <th>Suites</th>\n",
       "      <th>Area</th>\n",
       "      <th>Valor</th>\n",
       "      <th>Condominio</th>\n",
       "      <th>IPTU</th>\n",
       "    </tr>\n",
       "  </thead>\n",
       "  <tbody>\n",
       "    <tr>\n",
       "      <th>count</th>\n",
       "      <td>32960.000000</td>\n",
       "      <td>32960.000000</td>\n",
       "      <td>32960.000000</td>\n",
       "      <td>32960.000000</td>\n",
       "      <td>3.294300e+04</td>\n",
       "      <td>2.886700e+04</td>\n",
       "      <td>2.272300e+04</td>\n",
       "    </tr>\n",
       "    <tr>\n",
       "      <th>mean</th>\n",
       "      <td>1.771390</td>\n",
       "      <td>1.749059</td>\n",
       "      <td>0.665777</td>\n",
       "      <td>231.901547</td>\n",
       "      <td>1.295266e+04</td>\n",
       "      <td>2.388062e+03</td>\n",
       "      <td>2.364410e+03</td>\n",
       "    </tr>\n",
       "    <tr>\n",
       "      <th>std</th>\n",
       "      <td>1.717869</td>\n",
       "      <td>20.380402</td>\n",
       "      <td>1.176525</td>\n",
       "      <td>1135.254152</td>\n",
       "      <td>6.675220e+05</td>\n",
       "      <td>3.918496e+04</td>\n",
       "      <td>1.795641e+05</td>\n",
       "    </tr>\n",
       "    <tr>\n",
       "      <th>min</th>\n",
       "      <td>0.000000</td>\n",
       "      <td>0.000000</td>\n",
       "      <td>0.000000</td>\n",
       "      <td>0.000000</td>\n",
       "      <td>7.500000e+01</td>\n",
       "      <td>1.000000e+00</td>\n",
       "      <td>1.000000e+00</td>\n",
       "    </tr>\n",
       "    <tr>\n",
       "      <th>25%</th>\n",
       "      <td>0.000000</td>\n",
       "      <td>0.000000</td>\n",
       "      <td>0.000000</td>\n",
       "      <td>55.000000</td>\n",
       "      <td>1.500000e+03</td>\n",
       "      <td>5.900000e+02</td>\n",
       "      <td>1.100000e+02</td>\n",
       "    </tr>\n",
       "    <tr>\n",
       "      <th>50%</th>\n",
       "      <td>2.000000</td>\n",
       "      <td>1.000000</td>\n",
       "      <td>0.000000</td>\n",
       "      <td>87.000000</td>\n",
       "      <td>2.800000e+03</td>\n",
       "      <td>9.900000e+02</td>\n",
       "      <td>2.500000e+02</td>\n",
       "    </tr>\n",
       "    <tr>\n",
       "      <th>75%</th>\n",
       "      <td>3.000000</td>\n",
       "      <td>2.000000</td>\n",
       "      <td>1.000000</td>\n",
       "      <td>170.000000</td>\n",
       "      <td>6.500000e+03</td>\n",
       "      <td>1.800000e+03</td>\n",
       "      <td>6.970000e+02</td>\n",
       "    </tr>\n",
       "    <tr>\n",
       "      <th>max</th>\n",
       "      <td>100.000000</td>\n",
       "      <td>1966.000000</td>\n",
       "      <td>70.000000</td>\n",
       "      <td>90000.000000</td>\n",
       "      <td>1.200000e+08</td>\n",
       "      <td>6.552570e+06</td>\n",
       "      <td>2.705307e+07</td>\n",
       "    </tr>\n",
       "  </tbody>\n",
       "</table>\n",
       "</div>"
      ],
      "text/plain": [
       "            Quartos         Vagas        Suites          Area         Valor  \\\n",
       "count  32960.000000  32960.000000  32960.000000  32960.000000  3.294300e+04   \n",
       "mean       1.771390      1.749059      0.665777    231.901547  1.295266e+04   \n",
       "std        1.717869     20.380402      1.176525   1135.254152  6.675220e+05   \n",
       "min        0.000000      0.000000      0.000000      0.000000  7.500000e+01   \n",
       "25%        0.000000      0.000000      0.000000     55.000000  1.500000e+03   \n",
       "50%        2.000000      1.000000      0.000000     87.000000  2.800000e+03   \n",
       "75%        3.000000      2.000000      1.000000    170.000000  6.500000e+03   \n",
       "max      100.000000   1966.000000     70.000000  90000.000000  1.200000e+08   \n",
       "\n",
       "         Condominio          IPTU  \n",
       "count  2.886700e+04  2.272300e+04  \n",
       "mean   2.388062e+03  2.364410e+03  \n",
       "std    3.918496e+04  1.795641e+05  \n",
       "min    1.000000e+00  1.000000e+00  \n",
       "25%    5.900000e+02  1.100000e+02  \n",
       "50%    9.900000e+02  2.500000e+02  \n",
       "75%    1.800000e+03  6.970000e+02  \n",
       "max    6.552570e+06  2.705307e+07  "
      ]
     },
     "execution_count": 57,
     "metadata": {},
     "output_type": "execute_result"
    }
   ],
   "source": [
    "dados.describe()  # Exibe estatísticas descritivas do DataFrame"
   ]
  },
  {
   "cell_type": "markdown",
   "id": "a5d9e407",
   "metadata": {},
   "source": [
    "# Quais os Valores médios dos alugueis por tipo de imóvel?"
   ]
  },
  {
   "cell_type": "code",
   "execution_count": 58,
   "id": "6eaec480",
   "metadata": {},
   "outputs": [
    {
     "name": "stdout",
     "output_type": "stream",
     "text": [
      "A média foi de: R$ 12952.66\n"
     ]
    }
   ],
   "source": [
    "media_valor = dados[\"Valor\"].mean()  # Calcula a média da coluna \"Valor\"\n",
    "\n",
    "print(\n",
    "    f\"A média foi de: R$ {media_valor:.2f}\"\n",
    ")  # Exibe a média do valor com 2 casas decimais"
   ]
  },
  {
   "cell_type": "markdown",
   "id": "c8963fcd",
   "metadata": {},
   "source": [
    "Agrupados por tipo de imóvel"
   ]
  },
  {
   "cell_type": "code",
   "execution_count": 59,
   "id": "332235b6",
   "metadata": {},
   "outputs": [
    {
     "data": {
      "application/vnd.microsoft.datawrangler.viewer.v0+json": {
       "columns": [
        {
         "name": "Tipo",
         "rawType": "object",
         "type": "string"
        },
        {
         "name": "Quartos",
         "rawType": "float64",
         "type": "float"
        },
        {
         "name": "Vagas",
         "rawType": "float64",
         "type": "float"
        },
        {
         "name": "Suites",
         "rawType": "float64",
         "type": "float"
        },
        {
         "name": "Area",
         "rawType": "float64",
         "type": "float"
        },
        {
         "name": "Valor",
         "rawType": "float64",
         "type": "float"
        },
        {
         "name": "Condominio",
         "rawType": "float64",
         "type": "float"
        },
        {
         "name": "IPTU",
         "rawType": "float64",
         "type": "float"
        }
       ],
       "conversionMethod": "pd.DataFrame",
       "ref": "2cbe1538-21b2-4692-9e1f-f51dccaef4dc",
       "rows": [
        [
         "Apartamento",
         "2.481568707761622",
         "1.2323878763055498",
         "0.8759983616629121",
         "119.79049764489044",
         "4744.614647887324",
         "1722.6536967051684",
         "686.170412517781"
        ],
        [
         "Box/Garagem",
         "0.06097560975609756",
         "1.3048780487804879",
         "0.0",
         "17.524390243902438",
         "1899.7560975609756",
         "305.45",
         "125.84615384615384"
        ],
        [
         "Casa",
         "3.1334022750775596",
         "1.795243019648397",
         "1.2585315408479834",
         "250.5780765253361",
         "6793.454922279792",
         "931.2809523809524",
         "1582.5063938618925"
        ],
        [
         "Casa Comercial",
         "1.5622641509433963",
         "2.2037735849056603",
         "0.26037735849056604",
         "372.2415094339623",
         "14478.264150943396",
         "1935.7096774193549",
         "1707.3867403314916"
        ],
        [
         "Casa de Condomínio",
         "4.007028112449799",
         "3.1014056224899598",
         "2.8644578313253013",
         "456.1616465863454",
         "11952.06124497992",
         "1342.025527192009",
         "3252.517730496454"
        ],
        [
         "Casa de Vila",
         "1.927710843373494",
         "0.3895582329317269",
         "0.2289156626506024",
         "78.46987951807229",
         "1574.3694779116465",
         "138.76842105263157",
         "183.87878787878788"
        ],
        [
         "Chácara",
         "3.0",
         "0.0",
         "0.0",
         "0.0",
         "4900.0",
         null,
         null
        ],
        [
         "Conjunto Comercial/Sala",
         "0.04093910491562729",
         "2.5168011738811447",
         "0.010858400586940571",
         "214.47248716067497",
         "14715.045521292217",
         "4512.2180999689535",
         "1399.5965711805557"
        ],
        [
         "Flat",
         "1.415966386554622",
         "0.9621848739495799",
         "0.7542016806722689",
         "65.48319327731092",
         "4546.189075630252",
         "2027.7205542725173",
         "493.1666666666667"
        ],
        [
         "Galpão/Depósito/Armazém",
         "0.04333868378812199",
         "5.587479935794542",
         "0.0",
         "2514.8105939004818",
         "53407.06260032103",
         "10560.308823529413",
         "5050.465240641711"
        ],
        [
         "Hotel",
         "25.5",
         "2.5",
         "12.0",
         "885.5",
         "25000.0",
         null,
         "6202.0"
        ],
        [
         "Indústria",
         "0.0",
         "0.0",
         "0.0",
         "22.0",
         "120000.0",
         null,
         null
        ],
        [
         "Loft",
         "1.1176470588235294",
         "0.6666666666666666",
         "0.37254901960784315",
         "58.372549019607845",
         "2557.8823529411766",
         "869.2391304347826",
         "238.24324324324326"
        ],
        [
         "Loja Shopping/ Ct Comercial",
         "0.044534412955465584",
         "6.874493927125506",
         "0.008097165991902834",
         "88.10931174089069",
         "8126.178861788618",
         "1790.1090047393366",
         "1052.415458937198"
        ],
        [
         "Loja/Salão",
         "0.010518934081346423",
         "1.2173913043478262",
         "0.043478260869565216",
         "228.85203366058906",
         "13769.64676966292",
         "2605.6019536019535",
         "2670.3314087759813"
        ],
        [
         "Loteamento/Condomínio",
         "0.0",
         "0.0",
         "0.0",
         "2069.0",
         "22000.0",
         null,
         "4885.0"
        ],
        [
         "Pousada/Chalé",
         "23.0",
         "0.0",
         "23.0",
         "862.0",
         "1480.0",
         "295.0",
         null
        ],
        [
         "Prédio Inteiro",
         "0.33554817275747506",
         "11.199335548172758",
         "0.019933554817275746",
         "1773.8372093023256",
         "498637.23920265783",
         "55066.75",
         "165480.0224719101"
        ],
        [
         "Quitinete",
         "0.8349282296650717",
         "0.017942583732057416",
         "0.03708133971291866",
         "28.954545454545453",
         "1246.840909090909",
         "427.3419689119171",
         "75.79074074074074"
        ],
        [
         "Studio",
         "0.5",
         "0.25",
         "0.0",
         "103.25",
         "2400.0",
         "549.0",
         "151.25"
        ],
        [
         "Sítio",
         "5.1",
         "1.0",
         "3.8",
         "15217.0",
         "12499.0",
         null,
         "5848.8"
        ],
        [
         "Terreno Padrão",
         "0.04285714285714286",
         "0.05714285714285714",
         "0.0",
         "5044.814285714286",
         "32567.714285714286",
         "1.0",
         "5138.170731707317"
        ]
       ],
       "shape": {
        "columns": 7,
        "rows": 22
       }
      },
      "text/html": [
       "<div>\n",
       "<style scoped>\n",
       "    .dataframe tbody tr th:only-of-type {\n",
       "        vertical-align: middle;\n",
       "    }\n",
       "\n",
       "    .dataframe tbody tr th {\n",
       "        vertical-align: top;\n",
       "    }\n",
       "\n",
       "    .dataframe thead th {\n",
       "        text-align: right;\n",
       "    }\n",
       "</style>\n",
       "<table border=\"1\" class=\"dataframe\">\n",
       "  <thead>\n",
       "    <tr style=\"text-align: right;\">\n",
       "      <th></th>\n",
       "      <th>Quartos</th>\n",
       "      <th>Vagas</th>\n",
       "      <th>Suites</th>\n",
       "      <th>Area</th>\n",
       "      <th>Valor</th>\n",
       "      <th>Condominio</th>\n",
       "      <th>IPTU</th>\n",
       "    </tr>\n",
       "    <tr>\n",
       "      <th>Tipo</th>\n",
       "      <th></th>\n",
       "      <th></th>\n",
       "      <th></th>\n",
       "      <th></th>\n",
       "      <th></th>\n",
       "      <th></th>\n",
       "      <th></th>\n",
       "    </tr>\n",
       "  </thead>\n",
       "  <tbody>\n",
       "    <tr>\n",
       "      <th>Apartamento</th>\n",
       "      <td>2.481569</td>\n",
       "      <td>1.232388</td>\n",
       "      <td>0.875998</td>\n",
       "      <td>119.790498</td>\n",
       "      <td>4744.614648</td>\n",
       "      <td>1722.653697</td>\n",
       "      <td>686.170413</td>\n",
       "    </tr>\n",
       "    <tr>\n",
       "      <th>Box/Garagem</th>\n",
       "      <td>0.060976</td>\n",
       "      <td>1.304878</td>\n",
       "      <td>0.000000</td>\n",
       "      <td>17.524390</td>\n",
       "      <td>1899.756098</td>\n",
       "      <td>305.450000</td>\n",
       "      <td>125.846154</td>\n",
       "    </tr>\n",
       "    <tr>\n",
       "      <th>Casa</th>\n",
       "      <td>3.133402</td>\n",
       "      <td>1.795243</td>\n",
       "      <td>1.258532</td>\n",
       "      <td>250.578077</td>\n",
       "      <td>6793.454922</td>\n",
       "      <td>931.280952</td>\n",
       "      <td>1582.506394</td>\n",
       "    </tr>\n",
       "    <tr>\n",
       "      <th>Casa Comercial</th>\n",
       "      <td>1.562264</td>\n",
       "      <td>2.203774</td>\n",
       "      <td>0.260377</td>\n",
       "      <td>372.241509</td>\n",
       "      <td>14478.264151</td>\n",
       "      <td>1935.709677</td>\n",
       "      <td>1707.386740</td>\n",
       "    </tr>\n",
       "    <tr>\n",
       "      <th>Casa de Condomínio</th>\n",
       "      <td>4.007028</td>\n",
       "      <td>3.101406</td>\n",
       "      <td>2.864458</td>\n",
       "      <td>456.161647</td>\n",
       "      <td>11952.061245</td>\n",
       "      <td>1342.025527</td>\n",
       "      <td>3252.517730</td>\n",
       "    </tr>\n",
       "    <tr>\n",
       "      <th>Casa de Vila</th>\n",
       "      <td>1.927711</td>\n",
       "      <td>0.389558</td>\n",
       "      <td>0.228916</td>\n",
       "      <td>78.469880</td>\n",
       "      <td>1574.369478</td>\n",
       "      <td>138.768421</td>\n",
       "      <td>183.878788</td>\n",
       "    </tr>\n",
       "    <tr>\n",
       "      <th>Chácara</th>\n",
       "      <td>3.000000</td>\n",
       "      <td>0.000000</td>\n",
       "      <td>0.000000</td>\n",
       "      <td>0.000000</td>\n",
       "      <td>4900.000000</td>\n",
       "      <td>NaN</td>\n",
       "      <td>NaN</td>\n",
       "    </tr>\n",
       "    <tr>\n",
       "      <th>Conjunto Comercial/Sala</th>\n",
       "      <td>0.040939</td>\n",
       "      <td>2.516801</td>\n",
       "      <td>0.010858</td>\n",
       "      <td>214.472487</td>\n",
       "      <td>14715.045521</td>\n",
       "      <td>4512.218100</td>\n",
       "      <td>1399.596571</td>\n",
       "    </tr>\n",
       "    <tr>\n",
       "      <th>Flat</th>\n",
       "      <td>1.415966</td>\n",
       "      <td>0.962185</td>\n",
       "      <td>0.754202</td>\n",
       "      <td>65.483193</td>\n",
       "      <td>4546.189076</td>\n",
       "      <td>2027.720554</td>\n",
       "      <td>493.166667</td>\n",
       "    </tr>\n",
       "    <tr>\n",
       "      <th>Galpão/Depósito/Armazém</th>\n",
       "      <td>0.043339</td>\n",
       "      <td>5.587480</td>\n",
       "      <td>0.000000</td>\n",
       "      <td>2514.810594</td>\n",
       "      <td>53407.062600</td>\n",
       "      <td>10560.308824</td>\n",
       "      <td>5050.465241</td>\n",
       "    </tr>\n",
       "    <tr>\n",
       "      <th>Hotel</th>\n",
       "      <td>25.500000</td>\n",
       "      <td>2.500000</td>\n",
       "      <td>12.000000</td>\n",
       "      <td>885.500000</td>\n",
       "      <td>25000.000000</td>\n",
       "      <td>NaN</td>\n",
       "      <td>6202.000000</td>\n",
       "    </tr>\n",
       "    <tr>\n",
       "      <th>Indústria</th>\n",
       "      <td>0.000000</td>\n",
       "      <td>0.000000</td>\n",
       "      <td>0.000000</td>\n",
       "      <td>22.000000</td>\n",
       "      <td>120000.000000</td>\n",
       "      <td>NaN</td>\n",
       "      <td>NaN</td>\n",
       "    </tr>\n",
       "    <tr>\n",
       "      <th>Loft</th>\n",
       "      <td>1.117647</td>\n",
       "      <td>0.666667</td>\n",
       "      <td>0.372549</td>\n",
       "      <td>58.372549</td>\n",
       "      <td>2557.882353</td>\n",
       "      <td>869.239130</td>\n",
       "      <td>238.243243</td>\n",
       "    </tr>\n",
       "    <tr>\n",
       "      <th>Loja Shopping/ Ct Comercial</th>\n",
       "      <td>0.044534</td>\n",
       "      <td>6.874494</td>\n",
       "      <td>0.008097</td>\n",
       "      <td>88.109312</td>\n",
       "      <td>8126.178862</td>\n",
       "      <td>1790.109005</td>\n",
       "      <td>1052.415459</td>\n",
       "    </tr>\n",
       "    <tr>\n",
       "      <th>Loja/Salão</th>\n",
       "      <td>0.010519</td>\n",
       "      <td>1.217391</td>\n",
       "      <td>0.043478</td>\n",
       "      <td>228.852034</td>\n",
       "      <td>13769.646770</td>\n",
       "      <td>2605.601954</td>\n",
       "      <td>2670.331409</td>\n",
       "    </tr>\n",
       "    <tr>\n",
       "      <th>Loteamento/Condomínio</th>\n",
       "      <td>0.000000</td>\n",
       "      <td>0.000000</td>\n",
       "      <td>0.000000</td>\n",
       "      <td>2069.000000</td>\n",
       "      <td>22000.000000</td>\n",
       "      <td>NaN</td>\n",
       "      <td>4885.000000</td>\n",
       "    </tr>\n",
       "    <tr>\n",
       "      <th>Pousada/Chalé</th>\n",
       "      <td>23.000000</td>\n",
       "      <td>0.000000</td>\n",
       "      <td>23.000000</td>\n",
       "      <td>862.000000</td>\n",
       "      <td>1480.000000</td>\n",
       "      <td>295.000000</td>\n",
       "      <td>NaN</td>\n",
       "    </tr>\n",
       "    <tr>\n",
       "      <th>Prédio Inteiro</th>\n",
       "      <td>0.335548</td>\n",
       "      <td>11.199336</td>\n",
       "      <td>0.019934</td>\n",
       "      <td>1773.837209</td>\n",
       "      <td>498637.239203</td>\n",
       "      <td>55066.750000</td>\n",
       "      <td>165480.022472</td>\n",
       "    </tr>\n",
       "    <tr>\n",
       "      <th>Quitinete</th>\n",
       "      <td>0.834928</td>\n",
       "      <td>0.017943</td>\n",
       "      <td>0.037081</td>\n",
       "      <td>28.954545</td>\n",
       "      <td>1246.840909</td>\n",
       "      <td>427.341969</td>\n",
       "      <td>75.790741</td>\n",
       "    </tr>\n",
       "    <tr>\n",
       "      <th>Studio</th>\n",
       "      <td>0.500000</td>\n",
       "      <td>0.250000</td>\n",
       "      <td>0.000000</td>\n",
       "      <td>103.250000</td>\n",
       "      <td>2400.000000</td>\n",
       "      <td>549.000000</td>\n",
       "      <td>151.250000</td>\n",
       "    </tr>\n",
       "    <tr>\n",
       "      <th>Sítio</th>\n",
       "      <td>5.100000</td>\n",
       "      <td>1.000000</td>\n",
       "      <td>3.800000</td>\n",
       "      <td>15217.000000</td>\n",
       "      <td>12499.000000</td>\n",
       "      <td>NaN</td>\n",
       "      <td>5848.800000</td>\n",
       "    </tr>\n",
       "    <tr>\n",
       "      <th>Terreno Padrão</th>\n",
       "      <td>0.042857</td>\n",
       "      <td>0.057143</td>\n",
       "      <td>0.000000</td>\n",
       "      <td>5044.814286</td>\n",
       "      <td>32567.714286</td>\n",
       "      <td>1.000000</td>\n",
       "      <td>5138.170732</td>\n",
       "    </tr>\n",
       "  </tbody>\n",
       "</table>\n",
       "</div>"
      ],
      "text/plain": [
       "                               Quartos      Vagas     Suites          Area  \\\n",
       "Tipo                                                                         \n",
       "Apartamento                   2.481569   1.232388   0.875998    119.790498   \n",
       "Box/Garagem                   0.060976   1.304878   0.000000     17.524390   \n",
       "Casa                          3.133402   1.795243   1.258532    250.578077   \n",
       "Casa Comercial                1.562264   2.203774   0.260377    372.241509   \n",
       "Casa de Condomínio            4.007028   3.101406   2.864458    456.161647   \n",
       "Casa de Vila                  1.927711   0.389558   0.228916     78.469880   \n",
       "Chácara                       3.000000   0.000000   0.000000      0.000000   \n",
       "Conjunto Comercial/Sala       0.040939   2.516801   0.010858    214.472487   \n",
       "Flat                          1.415966   0.962185   0.754202     65.483193   \n",
       "Galpão/Depósito/Armazém       0.043339   5.587480   0.000000   2514.810594   \n",
       "Hotel                        25.500000   2.500000  12.000000    885.500000   \n",
       "Indústria                     0.000000   0.000000   0.000000     22.000000   \n",
       "Loft                          1.117647   0.666667   0.372549     58.372549   \n",
       "Loja Shopping/ Ct Comercial   0.044534   6.874494   0.008097     88.109312   \n",
       "Loja/Salão                    0.010519   1.217391   0.043478    228.852034   \n",
       "Loteamento/Condomínio         0.000000   0.000000   0.000000   2069.000000   \n",
       "Pousada/Chalé                23.000000   0.000000  23.000000    862.000000   \n",
       "Prédio Inteiro                0.335548  11.199336   0.019934   1773.837209   \n",
       "Quitinete                     0.834928   0.017943   0.037081     28.954545   \n",
       "Studio                        0.500000   0.250000   0.000000    103.250000   \n",
       "Sítio                         5.100000   1.000000   3.800000  15217.000000   \n",
       "Terreno Padrão                0.042857   0.057143   0.000000   5044.814286   \n",
       "\n",
       "                                     Valor    Condominio           IPTU  \n",
       "Tipo                                                                     \n",
       "Apartamento                    4744.614648   1722.653697     686.170413  \n",
       "Box/Garagem                    1899.756098    305.450000     125.846154  \n",
       "Casa                           6793.454922    931.280952    1582.506394  \n",
       "Casa Comercial                14478.264151   1935.709677    1707.386740  \n",
       "Casa de Condomínio            11952.061245   1342.025527    3252.517730  \n",
       "Casa de Vila                   1574.369478    138.768421     183.878788  \n",
       "Chácara                        4900.000000           NaN            NaN  \n",
       "Conjunto Comercial/Sala       14715.045521   4512.218100    1399.596571  \n",
       "Flat                           4546.189076   2027.720554     493.166667  \n",
       "Galpão/Depósito/Armazém       53407.062600  10560.308824    5050.465241  \n",
       "Hotel                         25000.000000           NaN    6202.000000  \n",
       "Indústria                    120000.000000           NaN            NaN  \n",
       "Loft                           2557.882353    869.239130     238.243243  \n",
       "Loja Shopping/ Ct Comercial    8126.178862   1790.109005    1052.415459  \n",
       "Loja/Salão                    13769.646770   2605.601954    2670.331409  \n",
       "Loteamento/Condomínio         22000.000000           NaN    4885.000000  \n",
       "Pousada/Chalé                  1480.000000    295.000000            NaN  \n",
       "Prédio Inteiro               498637.239203  55066.750000  165480.022472  \n",
       "Quitinete                      1246.840909    427.341969      75.790741  \n",
       "Studio                         2400.000000    549.000000     151.250000  \n",
       "Sítio                         12499.000000           NaN    5848.800000  \n",
       "Terreno Padrão                32567.714286      1.000000    5138.170732  "
      ]
     },
     "execution_count": 59,
     "metadata": {},
     "output_type": "execute_result"
    }
   ],
   "source": [
    "dados.groupby(\"Tipo\").mean(numeric_only=True)  # Calcula a média de cada tipo de imóvel"
   ]
  },
  {
   "cell_type": "code",
   "execution_count": 60,
   "id": "d6166f7e",
   "metadata": {},
   "outputs": [
    {
     "data": {
      "text/plain": [
       "Tipo\n",
       "Apartamento                      4744.614648\n",
       "Box/Garagem                      1899.756098\n",
       "Casa                             6793.454922\n",
       "Casa Comercial                  14478.264151\n",
       "Casa de Condomínio              11952.061245\n",
       "Casa de Vila                     1574.369478\n",
       "Chácara                          4900.000000\n",
       "Conjunto Comercial/Sala         14715.045521\n",
       "Flat                             4546.189076\n",
       "Galpão/Depósito/Armazém         53407.062600\n",
       "Hotel                           25000.000000\n",
       "Indústria                      120000.000000\n",
       "Loft                             2557.882353\n",
       "Loja Shopping/ Ct Comercial      8126.178862\n",
       "Loja/Salão                      13769.646770\n",
       "Loteamento/Condomínio           22000.000000\n",
       "Pousada/Chalé                    1480.000000\n",
       "Prédio Inteiro                 498637.239203\n",
       "Quitinete                        1246.840909\n",
       "Studio                           2400.000000\n",
       "Sítio                           12499.000000\n",
       "Terreno Padrão                  32567.714286\n",
       "Name: Valor, dtype: float64"
      ]
     },
     "execution_count": 60,
     "metadata": {},
     "output_type": "execute_result"
    }
   ],
   "source": [
    "dados.groupby(\"Tipo\")[\"Valor\"].mean()  # Calcula a média de cada tipo de imóvel"
   ]
  },
  {
   "cell_type": "markdown",
   "id": "f738058f",
   "metadata": {},
   "source": [
    "Melhorar a visualização dos dados acima:"
   ]
  },
  {
   "cell_type": "code",
   "execution_count": 61,
   "id": "687871cb",
   "metadata": {},
   "outputs": [
    {
     "data": {
      "application/vnd.microsoft.datawrangler.viewer.v0+json": {
       "columns": [
        {
         "name": "Tipo",
         "rawType": "object",
         "type": "string"
        },
        {
         "name": "Valor",
         "rawType": "float64",
         "type": "float"
        }
       ],
       "conversionMethod": "pd.DataFrame",
       "ref": "de29f1ac-85d6-4998-940b-d5e68f528c78",
       "rows": [
        [
         "Quitinete",
         "1246.840909090909"
        ],
        [
         "Pousada/Chalé",
         "1480.0"
        ],
        [
         "Casa de Vila",
         "1574.3694779116465"
        ],
        [
         "Box/Garagem",
         "1899.7560975609756"
        ],
        [
         "Studio",
         "2400.0"
        ],
        [
         "Loft",
         "2557.8823529411766"
        ],
        [
         "Flat",
         "4546.189075630252"
        ],
        [
         "Apartamento",
         "4744.614647887324"
        ],
        [
         "Chácara",
         "4900.0"
        ],
        [
         "Casa",
         "6793.454922279792"
        ],
        [
         "Loja Shopping/ Ct Comercial",
         "8126.178861788618"
        ],
        [
         "Casa de Condomínio",
         "11952.06124497992"
        ],
        [
         "Sítio",
         "12499.0"
        ],
        [
         "Loja/Salão",
         "13769.64676966292"
        ],
        [
         "Casa Comercial",
         "14478.264150943396"
        ],
        [
         "Conjunto Comercial/Sala",
         "14715.045521292217"
        ],
        [
         "Loteamento/Condomínio",
         "22000.0"
        ],
        [
         "Hotel",
         "25000.0"
        ],
        [
         "Terreno Padrão",
         "32567.714285714286"
        ],
        [
         "Galpão/Depósito/Armazém",
         "53407.06260032103"
        ],
        [
         "Indústria",
         "120000.0"
        ],
        [
         "Prédio Inteiro",
         "498637.23920265783"
        ]
       ],
       "shape": {
        "columns": 1,
        "rows": 22
       }
      },
      "text/html": [
       "<div>\n",
       "<style scoped>\n",
       "    .dataframe tbody tr th:only-of-type {\n",
       "        vertical-align: middle;\n",
       "    }\n",
       "\n",
       "    .dataframe tbody tr th {\n",
       "        vertical-align: top;\n",
       "    }\n",
       "\n",
       "    .dataframe thead th {\n",
       "        text-align: right;\n",
       "    }\n",
       "</style>\n",
       "<table border=\"1\" class=\"dataframe\">\n",
       "  <thead>\n",
       "    <tr style=\"text-align: right;\">\n",
       "      <th></th>\n",
       "      <th>Valor</th>\n",
       "    </tr>\n",
       "    <tr>\n",
       "      <th>Tipo</th>\n",
       "      <th></th>\n",
       "    </tr>\n",
       "  </thead>\n",
       "  <tbody>\n",
       "    <tr>\n",
       "      <th>Quitinete</th>\n",
       "      <td>1246.840909</td>\n",
       "    </tr>\n",
       "    <tr>\n",
       "      <th>Pousada/Chalé</th>\n",
       "      <td>1480.000000</td>\n",
       "    </tr>\n",
       "    <tr>\n",
       "      <th>Casa de Vila</th>\n",
       "      <td>1574.369478</td>\n",
       "    </tr>\n",
       "    <tr>\n",
       "      <th>Box/Garagem</th>\n",
       "      <td>1899.756098</td>\n",
       "    </tr>\n",
       "    <tr>\n",
       "      <th>Studio</th>\n",
       "      <td>2400.000000</td>\n",
       "    </tr>\n",
       "    <tr>\n",
       "      <th>Loft</th>\n",
       "      <td>2557.882353</td>\n",
       "    </tr>\n",
       "    <tr>\n",
       "      <th>Flat</th>\n",
       "      <td>4546.189076</td>\n",
       "    </tr>\n",
       "    <tr>\n",
       "      <th>Apartamento</th>\n",
       "      <td>4744.614648</td>\n",
       "    </tr>\n",
       "    <tr>\n",
       "      <th>Chácara</th>\n",
       "      <td>4900.000000</td>\n",
       "    </tr>\n",
       "    <tr>\n",
       "      <th>Casa</th>\n",
       "      <td>6793.454922</td>\n",
       "    </tr>\n",
       "    <tr>\n",
       "      <th>Loja Shopping/ Ct Comercial</th>\n",
       "      <td>8126.178862</td>\n",
       "    </tr>\n",
       "    <tr>\n",
       "      <th>Casa de Condomínio</th>\n",
       "      <td>11952.061245</td>\n",
       "    </tr>\n",
       "    <tr>\n",
       "      <th>Sítio</th>\n",
       "      <td>12499.000000</td>\n",
       "    </tr>\n",
       "    <tr>\n",
       "      <th>Loja/Salão</th>\n",
       "      <td>13769.646770</td>\n",
       "    </tr>\n",
       "    <tr>\n",
       "      <th>Casa Comercial</th>\n",
       "      <td>14478.264151</td>\n",
       "    </tr>\n",
       "    <tr>\n",
       "      <th>Conjunto Comercial/Sala</th>\n",
       "      <td>14715.045521</td>\n",
       "    </tr>\n",
       "    <tr>\n",
       "      <th>Loteamento/Condomínio</th>\n",
       "      <td>22000.000000</td>\n",
       "    </tr>\n",
       "    <tr>\n",
       "      <th>Hotel</th>\n",
       "      <td>25000.000000</td>\n",
       "    </tr>\n",
       "    <tr>\n",
       "      <th>Terreno Padrão</th>\n",
       "      <td>32567.714286</td>\n",
       "    </tr>\n",
       "    <tr>\n",
       "      <th>Galpão/Depósito/Armazém</th>\n",
       "      <td>53407.062600</td>\n",
       "    </tr>\n",
       "    <tr>\n",
       "      <th>Indústria</th>\n",
       "      <td>120000.000000</td>\n",
       "    </tr>\n",
       "    <tr>\n",
       "      <th>Prédio Inteiro</th>\n",
       "      <td>498637.239203</td>\n",
       "    </tr>\n",
       "  </tbody>\n",
       "</table>\n",
       "</div>"
      ],
      "text/plain": [
       "                                     Valor\n",
       "Tipo                                      \n",
       "Quitinete                      1246.840909\n",
       "Pousada/Chalé                  1480.000000\n",
       "Casa de Vila                   1574.369478\n",
       "Box/Garagem                    1899.756098\n",
       "Studio                         2400.000000\n",
       "Loft                           2557.882353\n",
       "Flat                           4546.189076\n",
       "Apartamento                    4744.614648\n",
       "Chácara                        4900.000000\n",
       "Casa                           6793.454922\n",
       "Loja Shopping/ Ct Comercial    8126.178862\n",
       "Casa de Condomínio            11952.061245\n",
       "Sítio                         12499.000000\n",
       "Loja/Salão                    13769.646770\n",
       "Casa Comercial                14478.264151\n",
       "Conjunto Comercial/Sala       14715.045521\n",
       "Loteamento/Condomínio         22000.000000\n",
       "Hotel                         25000.000000\n",
       "Terreno Padrão                32567.714286\n",
       "Galpão/Depósito/Armazém       53407.062600\n",
       "Indústria                    120000.000000\n",
       "Prédio Inteiro               498637.239203"
      ]
     },
     "execution_count": 61,
     "metadata": {},
     "output_type": "execute_result"
    }
   ],
   "source": [
    "dados.groupby(\"Tipo\")[[\"Valor\"]].mean().sort_values(\n",
    "    \"Valor\"\n",
    ")  # Ordena os valores da média"
   ]
  },
  {
   "cell_type": "markdown",
   "id": "14585885",
   "metadata": {},
   "source": [
    "Plotando Gráfico para mostrar as informações acima\n"
   ]
  },
  {
   "cell_type": "code",
   "execution_count": 62,
   "id": "bcf4d826",
   "metadata": {},
   "outputs": [
    {
     "data": {
      "text/plain": [
       "<Axes: ylabel='Tipo'>"
      ]
     },
     "execution_count": 62,
     "metadata": {},
     "output_type": "execute_result"
    },
    {
     "data": {
      "image/png": "[encoded data removed]",
      "text/plain": [
       "<Figure size 1400x1000 with 1 Axes>"
      ]
     },
     "metadata": {},
     "output_type": "display_data"
    }
   ],
   "source": [
    "df_preco_tipo = dados.groupby(\"Tipo\")[\n",
    "    \"Valor\"\n",
    "].mean()  # Calcula a média de cada tipo de imóvel\n",
    "\n",
    "df_preco_tipo.plot(\n",
    "    kind=\"barh\", figsize=(14, 10), color=\"blue\"\n",
    ")  # Plota o gráfico de barras"
   ]
  },
  {
   "cell_type": "markdown",
   "id": "1b841ced",
   "metadata": {},
   "source": [
    "# Imóveis Residenciais"
   ]
  },
  {
   "cell_type": "code",
   "execution_count": 63,
   "id": "cc8303d8",
   "metadata": {},
   "outputs": [
    {
     "data": {
      "text/plain": [
       "array(['Quitinete', 'Casa', 'Conjunto Comercial/Sala', 'Apartamento',\n",
       "       'Casa de Condomínio', 'Prédio Inteiro', 'Flat', 'Loja/Salão',\n",
       "       'Galpão/Depósito/Armazém', 'Casa Comercial', 'Casa de Vila',\n",
       "       'Terreno Padrão', 'Box/Garagem', 'Loft',\n",
       "       'Loja Shopping/ Ct Comercial', 'Chácara', 'Loteamento/Condomínio',\n",
       "       'Sítio', 'Pousada/Chalé', 'Studio', 'Hotel', 'Indústria'],\n",
       "      dtype=object)"
      ]
     },
     "execution_count": 63,
     "metadata": {},
     "output_type": "execute_result"
    }
   ],
   "source": [
    "dados.Tipo.unique()  # Verifica os tipos de imóveis únicos"
   ]
  },
  {
   "cell_type": "code",
   "execution_count": 79,
   "id": "918a1897",
   "metadata": {},
   "outputs": [],
   "source": [
    "imoveis_comerciais = [\n",
    "    \"Conjunto Comercial/Sala\",\n",
    "    \"Prédio Inteiro\",\n",
    "    \"Loja/Salão\",\n",
    "    \"Galpão/Depósito/Armazém\",\n",
    "    \"Casa Comercial\",\n",
    "    \"Loja Shopping/ Ct Comercial\",\n",
    "    \"Box/Garagem\",\n",
    "    \"Terreno Padrão\",\n",
    "    \"Chácara\",\n",
    "    \"Loteamento/Condomínio\",\n",
    "    \"Sítio\",\n",
    "    \"Pousada/Chalé\",\n",
    "    \"Hotel\",\n",
    "    \"Indústria\",\n",
    "]"
   ]
  },
  {
   "cell_type": "code",
   "execution_count": 80,
   "id": "93eb714c",
   "metadata": {},
   "outputs": [
    {
     "data": {
      "application/vnd.microsoft.datawrangler.viewer.v0+json": {
       "columns": [
        {
         "name": "index",
         "rawType": "int64",
         "type": "integer"
        },
        {
         "name": "Tipo",
         "rawType": "object",
         "type": "string"
        },
        {
         "name": "Bairro",
         "rawType": "object",
         "type": "string"
        },
        {
         "name": "Quartos",
         "rawType": "int64",
         "type": "integer"
        },
        {
         "name": "Vagas",
         "rawType": "int64",
         "type": "integer"
        },
        {
         "name": "Suites",
         "rawType": "int64",
         "type": "integer"
        },
        {
         "name": "Area",
         "rawType": "int64",
         "type": "integer"
        },
        {
         "name": "Valor",
         "rawType": "float64",
         "type": "float"
        },
        {
         "name": "Condominio",
         "rawType": "float64",
         "type": "float"
        },
        {
         "name": "IPTU",
         "rawType": "float64",
         "type": "float"
        }
       ],
       "conversionMethod": "pd.DataFrame",
       "ref": "429a7698-c00b-4dff-9654-8256546b206b",
       "rows": [
        [
         "2",
         "Conjunto Comercial/Sala",
         "Barra da Tijuca",
         "0",
         "4",
         "0",
         "150",
         "5200.0",
         "4020.0",
         "1111.0"
        ],
        [
         "9",
         "Conjunto Comercial/Sala",
         "Centro",
         "0",
         "3",
         "0",
         "695",
         "35000.0",
         "19193.0",
         "3030.0"
        ],
        [
         "16",
         "Prédio Inteiro",
         "Botafogo",
         "0",
         "0",
         "0",
         "536",
         "28000.0",
         null,
         "3563.0"
        ],
        [
         "26",
         "Conjunto Comercial/Sala",
         "São Cristóvão",
         "0",
         "1",
         "0",
         "25",
         "1100.0",
         "600.0",
         null
        ],
        [
         "29",
         "Loja/Salão",
         "Campo Grande",
         "0",
         "1",
         "0",
         "35",
         "1300.0",
         "950.0",
         null
        ],
        [
         "35",
         "Conjunto Comercial/Sala",
         "Barra da Tijuca",
         "0",
         "1",
         "0",
         "22",
         "700.0",
         null,
         null
        ],
        [
         "38",
         "Conjunto Comercial/Sala",
         "Centro",
         "0",
         "5",
         "0",
         "1306",
         "117540.0",
         "19486.0",
         null
        ],
        [
         "42",
         "Conjunto Comercial/Sala",
         "Recreio dos Bandeirantes",
         "0",
         "1",
         "0",
         "50",
         "1500.0",
         "250.0",
         null
        ],
        [
         "45",
         "Conjunto Comercial/Sala",
         "Centro",
         "0",
         "0",
         "0",
         "460",
         "7500.0",
         "4797.0",
         "2019.0"
        ],
        [
         "46",
         "Conjunto Comercial/Sala",
         "Centro",
         "0",
         "0",
         "0",
         "1170",
         "140456.0",
         "23409.0",
         "5852.0"
        ],
        [
         "52",
         "Conjunto Comercial/Sala",
         "Centro",
         "0",
         "1",
         "0",
         "70",
         "1900.0",
         "1080.0",
         "251.0"
        ],
        [
         "53",
         "Conjunto Comercial/Sala",
         "Jardim Botânico",
         "0",
         "1",
         "0",
         "50",
         "4000.0",
         "1160.0",
         "200.0"
        ],
        [
         "58",
         "Loja/Salão",
         "Copacabana",
         "0",
         "0",
         "0",
         "34",
         "2000.0",
         "735.0",
         null
        ],
        [
         "61",
         "Conjunto Comercial/Sala",
         "Recreio dos Bandeirantes",
         "0",
         "0",
         "0",
         "84",
         "1500.0",
         "1546.0",
         null
        ],
        [
         "69",
         "Conjunto Comercial/Sala",
         "Méier",
         "0",
         "0",
         "0",
         "32",
         "700.0",
         "380.0",
         "56.0"
        ],
        [
         "72",
         "Conjunto Comercial/Sala",
         "Centro",
         "0",
         "0",
         "0",
         "1",
         "2850.0",
         "2050.0",
         null
        ],
        [
         "78",
         "Conjunto Comercial/Sala",
         "Barra da Tijuca",
         "0",
         "1",
         "0",
         "33",
         "700.0",
         "1010.0",
         "56.0"
        ],
        [
         "79",
         "Conjunto Comercial/Sala",
         "Jardim Botânico",
         "0",
         "1",
         "0",
         "24",
         "2500.0",
         "682.0",
         "112.0"
        ],
        [
         "80",
         "Galpão/Depósito/Armazém",
         "Vargem Grande",
         "0",
         "6",
         "0",
         "2236",
         "40000.0",
         null,
         null
        ],
        [
         "81",
         "Conjunto Comercial/Sala",
         "Barra da Tijuca",
         "0",
         "1",
         "0",
         "32",
         "850.0",
         "719.0",
         null
        ],
        [
         "83",
         "Casa Comercial",
         "Botafogo",
         "0",
         "0",
         "0",
         "140",
         "7000.0",
         null,
         "137.0"
        ],
        [
         "84",
         "Galpão/Depósito/Armazém",
         "Maria da Graça",
         "0",
         "3",
         "0",
         "1000",
         "9800.0",
         null,
         "820.0"
        ],
        [
         "86",
         "Conjunto Comercial/Sala",
         "Centro",
         "0",
         "1",
         "0",
         "390",
         "25397.0",
         "12090.0",
         "1318.0"
        ],
        [
         "87",
         "Conjunto Comercial/Sala",
         "Centro",
         "0",
         "0",
         "0",
         "320",
         "12000.0",
         "3740.0",
         "1541.0"
        ],
        [
         "103",
         "Loja/Salão",
         "Barra da Tijuca",
         "0",
         "0",
         "0",
         "36",
         "5300.0",
         "2114.0",
         "839.0"
        ],
        [
         "105",
         "Conjunto Comercial/Sala",
         "Centro",
         "0",
         "0",
         "0",
         "95",
         "3800.0",
         "1688.0",
         "392.0"
        ],
        [
         "108",
         "Conjunto Comercial/Sala",
         "Centro",
         "0",
         "0",
         "0",
         "310",
         "17050.0",
         "5950.0",
         "1917.0"
        ],
        [
         "112",
         "Conjunto Comercial/Sala",
         "Barra da Tijuca",
         "0",
         "4",
         "0",
         "145",
         "9000.0",
         "6400.0",
         null
        ],
        [
         "115",
         "Conjunto Comercial/Sala",
         "Barra da Tijuca",
         "0",
         "2",
         "0",
         "142",
         "4000.0",
         "5024.0",
         "12415.0"
        ],
        [
         "116",
         "Conjunto Comercial/Sala",
         "Botafogo",
         "0",
         "3",
         "0",
         "241",
         "22000.0",
         "9384.0",
         null
        ],
        [
         "120",
         "Galpão/Depósito/Armazém",
         "Bonsucesso",
         "0",
         "10",
         "0",
         "13010",
         "100000.0",
         null,
         "12000.0"
        ],
        [
         "127",
         "Conjunto Comercial/Sala",
         "Centro",
         "0",
         "0",
         "0",
         "40",
         "1500.0",
         "637.0",
         "84.0"
        ],
        [
         "128",
         "Conjunto Comercial/Sala",
         "Centro",
         "0",
         "0",
         "0",
         "48",
         "1400.0",
         "729.0",
         "157.0"
        ],
        [
         "129",
         "Conjunto Comercial/Sala",
         "Santo Cristo",
         "0",
         "64",
         "0",
         "4800",
         "312000.0",
         "92000.0",
         null
        ],
        [
         "130",
         "Conjunto Comercial/Sala",
         "Largo do Machado",
         "0",
         "0",
         "0",
         "30",
         "800.0",
         "592.0",
         "162.0"
        ],
        [
         "136",
         "Conjunto Comercial/Sala",
         "Centro",
         "0",
         "0",
         "0",
         "55",
         "900.0",
         "1240.0",
         "240.0"
        ],
        [
         "144",
         "Conjunto Comercial/Sala",
         "Centro",
         "0",
         "0",
         "0",
         "212",
         "13000.0",
         "4700.0",
         "1350.0"
        ],
        [
         "145",
         "Conjunto Comercial/Sala",
         "Freguesia (Jacarepaguá)",
         "0",
         "0",
         "0",
         "22",
         "490.0",
         "450.0",
         "525.0"
        ],
        [
         "146",
         "Conjunto Comercial/Sala",
         "Barra da Tijuca",
         "0",
         "1",
         "0",
         "20",
         "445.0",
         "791.0",
         "1041.0"
        ],
        [
         "149",
         "Galpão/Depósito/Armazém",
         "Quintino Bocaiúva",
         "0",
         "0",
         "0",
         "550",
         "4300.0",
         null,
         null
        ],
        [
         "150",
         "Conjunto Comercial/Sala",
         "Campo Grande",
         "0",
         "0",
         "0",
         "20",
         "800.0",
         null,
         null
        ],
        [
         "151",
         "Conjunto Comercial/Sala",
         "São Francisco Xavier",
         "0",
         "1",
         "0",
         "27",
         "1500.0",
         "580.0",
         null
        ],
        [
         "155",
         "Conjunto Comercial/Sala",
         "Barra da Tijuca",
         "0",
         "1",
         "0",
         "32",
         "1300.0",
         "935.0",
         "217.0"
        ],
        [
         "156",
         "Conjunto Comercial/Sala",
         "Barra da Tijuca",
         "0",
         "0",
         "0",
         "28",
         "800.0",
         "550.0",
         null
        ],
        [
         "157",
         "Conjunto Comercial/Sala",
         "Barra da Tijuca",
         "0",
         "1",
         "0",
         "45",
         "1600.0",
         "1100.0",
         "350.0"
        ],
        [
         "159",
         "Terreno Padrão",
         "Barra da Tijuca",
         "0",
         "0",
         "0",
         "1110",
         "140000.0",
         null,
         null
        ],
        [
         "161",
         "Conjunto Comercial/Sala",
         "Centro",
         "0",
         "0",
         "0",
         "154",
         "3900.0",
         "5100.0",
         "559.0"
        ],
        [
         "168",
         "Conjunto Comercial/Sala",
         "Barra da Tijuca",
         "0",
         "0",
         "0",
         "21",
         "1200.0",
         "588.0",
         null
        ],
        [
         "169",
         "Conjunto Comercial/Sala",
         "Freguesia (Jacarepaguá)",
         "0",
         "0",
         "0",
         "22",
         "500.0",
         "600.0",
         "85.0"
        ],
        [
         "171",
         "Conjunto Comercial/Sala",
         "Recreio dos Bandeirantes",
         "0",
         "1",
         "0",
         "48",
         "2000.0",
         "1064.0",
         null
        ]
       ],
       "shape": {
        "columns": 9,
        "rows": 9849
       }
      },
      "text/html": [
       "<div>\n",
       "<style scoped>\n",
       "    .dataframe tbody tr th:only-of-type {\n",
       "        vertical-align: middle;\n",
       "    }\n",
       "\n",
       "    .dataframe tbody tr th {\n",
       "        vertical-align: top;\n",
       "    }\n",
       "\n",
       "    .dataframe thead th {\n",
       "        text-align: right;\n",
       "    }\n",
       "</style>\n",
       "<table border=\"1\" class=\"dataframe\">\n",
       "  <thead>\n",
       "    <tr style=\"text-align: right;\">\n",
       "      <th></th>\n",
       "      <th>Tipo</th>\n",
       "      <th>Bairro</th>\n",
       "      <th>Quartos</th>\n",
       "      <th>Vagas</th>\n",
       "      <th>Suites</th>\n",
       "      <th>Area</th>\n",
       "      <th>Valor</th>\n",
       "      <th>Condominio</th>\n",
       "      <th>IPTU</th>\n",
       "    </tr>\n",
       "  </thead>\n",
       "  <tbody>\n",
       "    <tr>\n",
       "      <th>2</th>\n",
       "      <td>Conjunto Comercial/Sala</td>\n",
       "      <td>Barra da Tijuca</td>\n",
       "      <td>0</td>\n",
       "      <td>4</td>\n",
       "      <td>0</td>\n",
       "      <td>150</td>\n",
       "      <td>5200.0</td>\n",
       "      <td>4020.0</td>\n",
       "      <td>1111.0</td>\n",
       "    </tr>\n",
       "    <tr>\n",
       "      <th>9</th>\n",
       "      <td>Conjunto Comercial/Sala</td>\n",
       "      <td>Centro</td>\n",
       "      <td>0</td>\n",
       "      <td>3</td>\n",
       "      <td>0</td>\n",
       "      <td>695</td>\n",
       "      <td>35000.0</td>\n",
       "      <td>19193.0</td>\n",
       "      <td>3030.0</td>\n",
       "    </tr>\n",
       "    <tr>\n",
       "      <th>16</th>\n",
       "      <td>Prédio Inteiro</td>\n",
       "      <td>Botafogo</td>\n",
       "      <td>0</td>\n",
       "      <td>0</td>\n",
       "      <td>0</td>\n",
       "      <td>536</td>\n",
       "      <td>28000.0</td>\n",
       "      <td>NaN</td>\n",
       "      <td>3563.0</td>\n",
       "    </tr>\n",
       "    <tr>\n",
       "      <th>26</th>\n",
       "      <td>Conjunto Comercial/Sala</td>\n",
       "      <td>São Cristóvão</td>\n",
       "      <td>0</td>\n",
       "      <td>1</td>\n",
       "      <td>0</td>\n",
       "      <td>25</td>\n",
       "      <td>1100.0</td>\n",
       "      <td>600.0</td>\n",
       "      <td>NaN</td>\n",
       "    </tr>\n",
       "    <tr>\n",
       "      <th>29</th>\n",
       "      <td>Loja/Salão</td>\n",
       "      <td>Campo Grande</td>\n",
       "      <td>0</td>\n",
       "      <td>1</td>\n",
       "      <td>0</td>\n",
       "      <td>35</td>\n",
       "      <td>1300.0</td>\n",
       "      <td>950.0</td>\n",
       "      <td>NaN</td>\n",
       "    </tr>\n",
       "    <tr>\n",
       "      <th>...</th>\n",
       "      <td>...</td>\n",
       "      <td>...</td>\n",
       "      <td>...</td>\n",
       "      <td>...</td>\n",
       "      <td>...</td>\n",
       "      <td>...</td>\n",
       "      <td>...</td>\n",
       "      <td>...</td>\n",
       "      <td>...</td>\n",
       "    </tr>\n",
       "    <tr>\n",
       "      <th>32942</th>\n",
       "      <td>Conjunto Comercial/Sala</td>\n",
       "      <td>Barra da Tijuca</td>\n",
       "      <td>0</td>\n",
       "      <td>1</td>\n",
       "      <td>0</td>\n",
       "      <td>55</td>\n",
       "      <td>2000.0</td>\n",
       "      <td>1096.0</td>\n",
       "      <td>NaN</td>\n",
       "    </tr>\n",
       "    <tr>\n",
       "      <th>32946</th>\n",
       "      <td>Conjunto Comercial/Sala</td>\n",
       "      <td>Centro</td>\n",
       "      <td>0</td>\n",
       "      <td>0</td>\n",
       "      <td>0</td>\n",
       "      <td>140</td>\n",
       "      <td>4000.0</td>\n",
       "      <td>1412.0</td>\n",
       "      <td>496.0</td>\n",
       "    </tr>\n",
       "    <tr>\n",
       "      <th>32948</th>\n",
       "      <td>Conjunto Comercial/Sala</td>\n",
       "      <td>Centro</td>\n",
       "      <td>0</td>\n",
       "      <td>0</td>\n",
       "      <td>0</td>\n",
       "      <td>32</td>\n",
       "      <td>600.0</td>\n",
       "      <td>1035.0</td>\n",
       "      <td>83.0</td>\n",
       "    </tr>\n",
       "    <tr>\n",
       "      <th>32954</th>\n",
       "      <td>Box/Garagem</td>\n",
       "      <td>Centro</td>\n",
       "      <td>0</td>\n",
       "      <td>0</td>\n",
       "      <td>0</td>\n",
       "      <td>755</td>\n",
       "      <td>14000.0</td>\n",
       "      <td>NaN</td>\n",
       "      <td>NaN</td>\n",
       "    </tr>\n",
       "    <tr>\n",
       "      <th>32959</th>\n",
       "      <td>Conjunto Comercial/Sala</td>\n",
       "      <td>Centro</td>\n",
       "      <td>0</td>\n",
       "      <td>0</td>\n",
       "      <td>0</td>\n",
       "      <td>250</td>\n",
       "      <td>6500.0</td>\n",
       "      <td>4206.0</td>\n",
       "      <td>1109.0</td>\n",
       "    </tr>\n",
       "  </tbody>\n",
       "</table>\n",
       "<p>9849 rows × 9 columns</p>\n",
       "</div>"
      ],
      "text/plain": [
       "                          Tipo           Bairro  Quartos  Vagas  Suites  Area  \\\n",
       "2      Conjunto Comercial/Sala  Barra da Tijuca        0      4       0   150   \n",
       "9      Conjunto Comercial/Sala           Centro        0      3       0   695   \n",
       "16              Prédio Inteiro         Botafogo        0      0       0   536   \n",
       "26     Conjunto Comercial/Sala    São Cristóvão        0      1       0    25   \n",
       "29                  Loja/Salão     Campo Grande        0      1       0    35   \n",
       "...                        ...              ...      ...    ...     ...   ...   \n",
       "32942  Conjunto Comercial/Sala  Barra da Tijuca        0      1       0    55   \n",
       "32946  Conjunto Comercial/Sala           Centro        0      0       0   140   \n",
       "32948  Conjunto Comercial/Sala           Centro        0      0       0    32   \n",
       "32954              Box/Garagem           Centro        0      0       0   755   \n",
       "32959  Conjunto Comercial/Sala           Centro        0      0       0   250   \n",
       "\n",
       "         Valor  Condominio    IPTU  \n",
       "2       5200.0      4020.0  1111.0  \n",
       "9      35000.0     19193.0  3030.0  \n",
       "16     28000.0         NaN  3563.0  \n",
       "26      1100.0       600.0     NaN  \n",
       "29      1300.0       950.0     NaN  \n",
       "...        ...         ...     ...  \n",
       "32942   2000.0      1096.0     NaN  \n",
       "32946   4000.0      1412.0   496.0  \n",
       "32948    600.0      1035.0    83.0  \n",
       "32954  14000.0         NaN     NaN  \n",
       "32959   6500.0      4206.0  1109.0  \n",
       "\n",
       "[9849 rows x 9 columns]"
      ]
     },
     "execution_count": 80,
     "metadata": {},
     "output_type": "execute_result"
    }
   ],
   "source": [
    "dados.query(\"@imoveis_comerciais in Tipo\")  # Filtra os imóveis comerciais"
   ]
  },
  {
   "cell_type": "code",
   "execution_count": 81,
   "id": "44db865d",
   "metadata": {},
   "outputs": [
    {
     "data": {
      "application/vnd.microsoft.datawrangler.viewer.v0+json": {
       "columns": [
        {
         "name": "index",
         "rawType": "int64",
         "type": "integer"
        },
        {
         "name": "Tipo",
         "rawType": "object",
         "type": "string"
        },
        {
         "name": "Bairro",
         "rawType": "object",
         "type": "string"
        },
        {
         "name": "Quartos",
         "rawType": "int64",
         "type": "integer"
        },
        {
         "name": "Vagas",
         "rawType": "int64",
         "type": "integer"
        },
        {
         "name": "Suites",
         "rawType": "int64",
         "type": "integer"
        },
        {
         "name": "Area",
         "rawType": "int64",
         "type": "integer"
        },
        {
         "name": "Valor",
         "rawType": "float64",
         "type": "float"
        },
        {
         "name": "Condominio",
         "rawType": "float64",
         "type": "float"
        },
        {
         "name": "IPTU",
         "rawType": "float64",
         "type": "float"
        }
       ],
       "conversionMethod": "pd.DataFrame",
       "ref": "b7cc8de2-95be-4bad-abbe-e17bdf461ffd",
       "rows": [
        [
         "0",
         "Quitinete",
         "Copacabana",
         "1",
         "0",
         "0",
         "40",
         "1700.0",
         "500.0",
         "60.0"
        ],
        [
         "1",
         "Casa",
         "Jardim Botânico",
         "2",
         "0",
         "1",
         "100",
         "7000.0",
         null,
         null
        ],
        [
         "3",
         "Apartamento",
         "Centro",
         "1",
         "0",
         "0",
         "15",
         "800.0",
         "390.0",
         "20.0"
        ],
        [
         "4",
         "Apartamento",
         "Higienópolis",
         "1",
         "0",
         "0",
         "48",
         "800.0",
         "230.0",
         null
        ],
        [
         "5",
         "Apartamento",
         "Vista Alegre",
         "3",
         "1",
         "0",
         "70",
         "1200.0",
         null,
         null
        ],
        [
         "6",
         "Apartamento",
         "Cachambi",
         "2",
         "0",
         "0",
         "50",
         "1300.0",
         "301.0",
         "17.0"
        ],
        [
         "7",
         "Casa de Condomínio",
         "Barra da Tijuca",
         "5",
         "4",
         "5",
         "750",
         "22000.0",
         null,
         null
        ],
        [
         "8",
         "Casa de Condomínio",
         "Ramos",
         "2",
         "2",
         "0",
         "65",
         "1000.0",
         null,
         null
        ],
        [
         "10",
         "Apartamento",
         "Centro",
         "1",
         "0",
         "0",
         "36",
         "1200.0",
         null,
         null
        ],
        [
         "11",
         "Apartamento",
         "Grajaú",
         "2",
         "1",
         "0",
         "70",
         "1500.0",
         "642.0",
         "74.0"
        ],
        [
         "12",
         "Apartamento",
         "Lins de Vasconcelos",
         "3",
         "1",
         "1",
         "90",
         "1500.0",
         "455.0",
         "14.0"
        ],
        [
         "13",
         "Apartamento",
         "Copacabana",
         "1",
         "0",
         "1",
         "40",
         "2000.0",
         "561.0",
         "50.0"
        ],
        [
         "14",
         "Quitinete",
         "Copacabana",
         "1",
         "0",
         "0",
         "27",
         "1800.0",
         "501.0",
         null
        ],
        [
         "15",
         "Apartamento",
         "Copacabana",
         "4",
         "3",
         "1",
         "243",
         "13000.0",
         "2000.0",
         "803.0"
        ],
        [
         "17",
         "Flat",
         "Botafogo",
         "3",
         "1",
         "1",
         "80",
         "3800.0",
         "1040.0",
         null
        ],
        [
         "18",
         "Casa de Condomínio",
         "Taquara",
         "3",
         "1",
         "1",
         "115",
         "2000.0",
         null,
         null
        ],
        [
         "19",
         "Apartamento",
         "Freguesia (Jacarepaguá)",
         "3",
         "0",
         "0",
         "54",
         "950.0",
         "300.0",
         "28.0"
        ],
        [
         "20",
         "Apartamento",
         "Barra da Tijuca",
         "2",
         "1",
         "1",
         "67",
         "1700.0",
         "589.0",
         "147.0"
        ],
        [
         "21",
         "Apartamento",
         "Tijuca",
         "2",
         "1",
         "0",
         "110",
         "1900.0",
         "700.0",
         "138.0"
        ],
        [
         "22",
         "Casa de Condomínio",
         "Barra da Tijuca",
         "4",
         "3",
         "2",
         "466",
         "7500.0",
         "2695.0",
         null
        ],
        [
         "23",
         "Apartamento",
         "Olaria",
         "3",
         "1",
         "0",
         "68",
         "1000.0",
         "670.0",
         null
        ],
        [
         "24",
         "Apartamento",
         "Tijuca",
         "2",
         "1",
         "0",
         "78",
         "2000.0",
         "700.0",
         null
        ],
        [
         "25",
         "Flat",
         "Leblon",
         "1",
         "0",
         "0",
         "56",
         "4500.0",
         "1900.0",
         "1500.0"
        ],
        [
         "27",
         "Apartamento",
         "Ipanema",
         "3",
         "1",
         "1",
         "125",
         "7000.0",
         "2100.0",
         "463.0"
        ],
        [
         "28",
         "Apartamento",
         "Tijuca",
         "1",
         "0",
         "0",
         "48",
         "750.0",
         "772.0",
         "25.0"
        ],
        [
         "30",
         "Apartamento",
         "Barra da Tijuca",
         "3",
         "3",
         "1",
         "175",
         "4200.0",
         "1500.0",
         "500.0"
        ],
        [
         "31",
         "Casa",
         "Campo Grande",
         "4",
         "1",
         "2",
         "400",
         "12000.0",
         null,
         null
        ],
        [
         "32",
         "Apartamento",
         "Botafogo",
         "2",
         "1",
         "0",
         "76",
         "2500.0",
         "740.0",
         null
        ],
        [
         "33",
         "Apartamento",
         "Copacabana",
         "3",
         "1",
         "2",
         "378",
         "10000.0",
         "2150.0",
         "700.0"
        ],
        [
         "34",
         "Apartamento",
         "Copacabana",
         "3",
         "0",
         "0",
         "180",
         "5500.0",
         "1780.0",
         "420.0"
        ],
        [
         "36",
         "Apartamento",
         "Recreio dos Bandeirantes",
         "3",
         "1",
         "1",
         "105",
         "2300.0",
         "648.0",
         null
        ],
        [
         "37",
         "Apartamento",
         "Leblon",
         "3",
         "1",
         "0",
         "110",
         "3900.0",
         "1500.0",
         "120.0"
        ],
        [
         "39",
         "Quitinete",
         "Copacabana",
         "1",
         "0",
         "0",
         "27",
         "1300.0",
         "380.0",
         "53.0"
        ],
        [
         "40",
         "Apartamento",
         "Jardim Oceânico",
         "3",
         "3",
         "1",
         "200",
         "3500.0",
         "1780.0",
         "496.0"
        ],
        [
         "41",
         "Apartamento",
         "Barra da Tijuca",
         "3",
         "1",
         "2",
         "70",
         "1800.0",
         "1095.0",
         "140.0"
        ],
        [
         "43",
         "Apartamento",
         "Copacabana",
         "4",
         "1",
         "0",
         "244",
         "5000.0",
         "2500.0",
         "4100.0"
        ],
        [
         "44",
         "Apartamento",
         "Barra da Tijuca",
         "3",
         "2",
         "1",
         "110",
         "4500.0",
         "2000.0",
         "450.0"
        ],
        [
         "47",
         "Apartamento",
         "Recreio dos Bandeirantes",
         "2",
         "2",
         "2",
         "90",
         "3000.0",
         "1340.0",
         null
        ],
        [
         "48",
         "Apartamento",
         "Recreio dos Bandeirantes",
         "3",
         "2",
         "2",
         "100",
         "2600.0",
         "380.0",
         null
        ],
        [
         "49",
         "Apartamento",
         "Barra da Tijuca",
         "3",
         "1",
         "1",
         "72",
         "2350.0",
         "600.0",
         "70.0"
        ],
        [
         "50",
         "Apartamento",
         "Humaitá",
         "2",
         "2",
         "1",
         "180",
         "4000.0",
         "2500.0",
         "300.0"
        ],
        [
         "51",
         "Apartamento",
         "Recreio dos Bandeirantes",
         "3",
         "1",
         "2",
         "92",
         "2300.0",
         "840.0",
         "200.0"
        ],
        [
         "54",
         "Apartamento",
         "Centro",
         "1",
         "0",
         "0",
         "27",
         "750.0",
         "371.0",
         "19.0"
        ],
        [
         "55",
         "Apartamento",
         "Ipanema",
         "1",
         "0",
         "0",
         "35",
         "2000.0",
         "650.0",
         "75.0"
        ],
        [
         "56",
         "Apartamento",
         "Ipanema",
         "1",
         "0",
         "0",
         "38",
         "1400.0",
         "530.0",
         "77.0"
        ],
        [
         "57",
         "Apartamento",
         "Recreio dos Bandeirantes",
         "2",
         "1",
         "2",
         "83",
         "1600.0",
         "1160.0",
         "157.0"
        ],
        [
         "59",
         "Casa de Condomínio",
         "Barra da Tijuca",
         "5",
         "10",
         "5",
         "1600",
         "25000.0",
         "1600.0",
         null
        ],
        [
         "60",
         "Apartamento",
         "Barra da Tijuca",
         "4",
         "3",
         "3",
         "153",
         "6500.0",
         "2300.0",
         "434.0"
        ],
        [
         "62",
         "Apartamento",
         "Península",
         "4",
         "3",
         "4",
         "267",
         "18000.0",
         "3100.0",
         "400.0"
        ],
        [
         "63",
         "Apartamento",
         "Ipanema",
         "3",
         "1",
         "0",
         "87",
         "3200.0",
         "1305.0",
         "217.0"
        ]
       ],
       "shape": {
        "columns": 9,
        "rows": 23111
       }
      },
      "text/html": [
       "<div>\n",
       "<style scoped>\n",
       "    .dataframe tbody tr th:only-of-type {\n",
       "        vertical-align: middle;\n",
       "    }\n",
       "\n",
       "    .dataframe tbody tr th {\n",
       "        vertical-align: top;\n",
       "    }\n",
       "\n",
       "    .dataframe thead th {\n",
       "        text-align: right;\n",
       "    }\n",
       "</style>\n",
       "<table border=\"1\" class=\"dataframe\">\n",
       "  <thead>\n",
       "    <tr style=\"text-align: right;\">\n",
       "      <th></th>\n",
       "      <th>Tipo</th>\n",
       "      <th>Bairro</th>\n",
       "      <th>Quartos</th>\n",
       "      <th>Vagas</th>\n",
       "      <th>Suites</th>\n",
       "      <th>Area</th>\n",
       "      <th>Valor</th>\n",
       "      <th>Condominio</th>\n",
       "      <th>IPTU</th>\n",
       "    </tr>\n",
       "  </thead>\n",
       "  <tbody>\n",
       "    <tr>\n",
       "      <th>0</th>\n",
       "      <td>Quitinete</td>\n",
       "      <td>Copacabana</td>\n",
       "      <td>1</td>\n",
       "      <td>0</td>\n",
       "      <td>0</td>\n",
       "      <td>40</td>\n",
       "      <td>1700.0</td>\n",
       "      <td>500.0</td>\n",
       "      <td>60.0</td>\n",
       "    </tr>\n",
       "    <tr>\n",
       "      <th>1</th>\n",
       "      <td>Casa</td>\n",
       "      <td>Jardim Botânico</td>\n",
       "      <td>2</td>\n",
       "      <td>0</td>\n",
       "      <td>1</td>\n",
       "      <td>100</td>\n",
       "      <td>7000.0</td>\n",
       "      <td>NaN</td>\n",
       "      <td>NaN</td>\n",
       "    </tr>\n",
       "    <tr>\n",
       "      <th>3</th>\n",
       "      <td>Apartamento</td>\n",
       "      <td>Centro</td>\n",
       "      <td>1</td>\n",
       "      <td>0</td>\n",
       "      <td>0</td>\n",
       "      <td>15</td>\n",
       "      <td>800.0</td>\n",
       "      <td>390.0</td>\n",
       "      <td>20.0</td>\n",
       "    </tr>\n",
       "    <tr>\n",
       "      <th>4</th>\n",
       "      <td>Apartamento</td>\n",
       "      <td>Higienópolis</td>\n",
       "      <td>1</td>\n",
       "      <td>0</td>\n",
       "      <td>0</td>\n",
       "      <td>48</td>\n",
       "      <td>800.0</td>\n",
       "      <td>230.0</td>\n",
       "      <td>NaN</td>\n",
       "    </tr>\n",
       "    <tr>\n",
       "      <th>5</th>\n",
       "      <td>Apartamento</td>\n",
       "      <td>Vista Alegre</td>\n",
       "      <td>3</td>\n",
       "      <td>1</td>\n",
       "      <td>0</td>\n",
       "      <td>70</td>\n",
       "      <td>1200.0</td>\n",
       "      <td>NaN</td>\n",
       "      <td>NaN</td>\n",
       "    </tr>\n",
       "    <tr>\n",
       "      <th>...</th>\n",
       "      <td>...</td>\n",
       "      <td>...</td>\n",
       "      <td>...</td>\n",
       "      <td>...</td>\n",
       "      <td>...</td>\n",
       "      <td>...</td>\n",
       "      <td>...</td>\n",
       "      <td>...</td>\n",
       "      <td>...</td>\n",
       "    </tr>\n",
       "    <tr>\n",
       "      <th>32953</th>\n",
       "      <td>Apartamento</td>\n",
       "      <td>Méier</td>\n",
       "      <td>2</td>\n",
       "      <td>0</td>\n",
       "      <td>0</td>\n",
       "      <td>70</td>\n",
       "      <td>900.0</td>\n",
       "      <td>490.0</td>\n",
       "      <td>48.0</td>\n",
       "    </tr>\n",
       "    <tr>\n",
       "      <th>32955</th>\n",
       "      <td>Quitinete</td>\n",
       "      <td>Centro</td>\n",
       "      <td>0</td>\n",
       "      <td>0</td>\n",
       "      <td>0</td>\n",
       "      <td>27</td>\n",
       "      <td>800.0</td>\n",
       "      <td>350.0</td>\n",
       "      <td>25.0</td>\n",
       "    </tr>\n",
       "    <tr>\n",
       "      <th>32956</th>\n",
       "      <td>Apartamento</td>\n",
       "      <td>Jacarepaguá</td>\n",
       "      <td>3</td>\n",
       "      <td>1</td>\n",
       "      <td>2</td>\n",
       "      <td>78</td>\n",
       "      <td>1800.0</td>\n",
       "      <td>800.0</td>\n",
       "      <td>40.0</td>\n",
       "    </tr>\n",
       "    <tr>\n",
       "      <th>32957</th>\n",
       "      <td>Apartamento</td>\n",
       "      <td>São Francisco Xavier</td>\n",
       "      <td>2</td>\n",
       "      <td>1</td>\n",
       "      <td>0</td>\n",
       "      <td>48</td>\n",
       "      <td>1400.0</td>\n",
       "      <td>509.0</td>\n",
       "      <td>37.0</td>\n",
       "    </tr>\n",
       "    <tr>\n",
       "      <th>32958</th>\n",
       "      <td>Apartamento</td>\n",
       "      <td>Leblon</td>\n",
       "      <td>2</td>\n",
       "      <td>0</td>\n",
       "      <td>0</td>\n",
       "      <td>70</td>\n",
       "      <td>3000.0</td>\n",
       "      <td>760.0</td>\n",
       "      <td>NaN</td>\n",
       "    </tr>\n",
       "  </tbody>\n",
       "</table>\n",
       "<p>23111 rows × 9 columns</p>\n",
       "</div>"
      ],
      "text/plain": [
       "              Tipo                Bairro  Quartos  Vagas  Suites  Area  \\\n",
       "0        Quitinete            Copacabana        1      0       0    40   \n",
       "1             Casa       Jardim Botânico        2      0       1   100   \n",
       "3      Apartamento                Centro        1      0       0    15   \n",
       "4      Apartamento          Higienópolis        1      0       0    48   \n",
       "5      Apartamento          Vista Alegre        3      1       0    70   \n",
       "...            ...                   ...      ...    ...     ...   ...   \n",
       "32953  Apartamento                 Méier        2      0       0    70   \n",
       "32955    Quitinete                Centro        0      0       0    27   \n",
       "32956  Apartamento           Jacarepaguá        3      1       2    78   \n",
       "32957  Apartamento  São Francisco Xavier        2      1       0    48   \n",
       "32958  Apartamento                Leblon        2      0       0    70   \n",
       "\n",
       "        Valor  Condominio  IPTU  \n",
       "0      1700.0       500.0  60.0  \n",
       "1      7000.0         NaN   NaN  \n",
       "3       800.0       390.0  20.0  \n",
       "4       800.0       230.0   NaN  \n",
       "5      1200.0         NaN   NaN  \n",
       "...       ...         ...   ...  \n",
       "32953   900.0       490.0  48.0  \n",
       "32955   800.0       350.0  25.0  \n",
       "32956  1800.0       800.0  40.0  \n",
       "32957  1400.0       509.0  37.0  \n",
       "32958  3000.0       760.0   NaN  \n",
       "\n",
       "[23111 rows x 9 columns]"
      ]
     },
     "execution_count": 81,
     "metadata": {},
     "output_type": "execute_result"
    }
   ],
   "source": [
    "dados.query(\"@imoveis_comerciais not in Tipo\")"
   ]
  },
  {
   "cell_type": "code",
   "execution_count": 82,
   "id": "fcb3976b",
   "metadata": {},
   "outputs": [],
   "source": [
    "df = dados.query(\"@imoveis_comerciais not in Tipo\")"
   ]
  },
  {
   "cell_type": "code",
   "execution_count": 83,
   "id": "4e2f2a46",
   "metadata": {},
   "outputs": [
    {
     "data": {
      "text/plain": [
       "array(['Quitinete', 'Casa', 'Apartamento', 'Casa de Condomínio', 'Flat',\n",
       "       'Casa de Vila', 'Loft', 'Studio'], dtype=object)"
      ]
     },
     "execution_count": 83,
     "metadata": {},
     "output_type": "execute_result"
    }
   ],
   "source": [
    "df.Tipo.unique()"
   ]
  },
  {
   "cell_type": "code",
   "execution_count": null,
   "id": "d4d25480",
   "metadata": {},
   "outputs": [
    {
     "data": {
      "text/plain": [
       "<Axes: ylabel='Tipo'>"
      ]
     },
     "execution_count": 85,
     "metadata": {},
     "output_type": "execute_result"
    },
    {
     "data": {
      "image/png": "[encoded data removed]",
      "text/plain": [
       "<Figure size 1400x1000 with 1 Axes>"
      ]
     },
     "metadata": {},
     "output_type": "display_data"
    }
   ],
   "source": [
    "df_preco_tipo = (\n",
    "    df.groupby(\"Tipo\")[\"Valor\"].mean().sort_values()\n",
    ")  # Calcula a média de cada tipo de imóvel\n",
    "\n",
    "df_preco_tipo.plot(\n",
    "    kind=\"barh\", figsize=(14, 10), color=\"purple\"\n",
    ")  # Plota o gráfico de barras"
   ]
  },
  {
   "cell_type": "markdown",
   "id": "655526b3",
   "metadata": {},
   "source": [
    "# Qual o percentual de cada tipo de imóvel presente na base de dados"
   ]
  },
  {
   "cell_type": "code",
   "execution_count": 86,
   "id": "28ffaf5a",
   "metadata": {},
   "outputs": [
    {
     "data": {
      "text/plain": [
       "array(['Quitinete', 'Casa', 'Apartamento', 'Casa de Condomínio', 'Flat',\n",
       "       'Casa de Vila', 'Loft', 'Studio'], dtype=object)"
      ]
     },
     "execution_count": 86,
     "metadata": {},
     "output_type": "execute_result"
    }
   ],
   "source": [
    "df.Tipo.unique()  # Verifica os tipos de imóveis únicos"
   ]
  },
  {
   "cell_type": "code",
   "execution_count": 94,
   "id": "2cdc4806",
   "metadata": {},
   "outputs": [
    {
     "data": {
      "text/plain": [
       "Tipo\n",
       "Apartamento           0.845139\n",
       "Casa de Condomínio    0.043096\n",
       "Casa                  0.041842\n",
       "Quitinete             0.036173\n",
       "Flat                  0.020596\n",
       "Casa de Vila          0.010774\n",
       "Loft                  0.002207\n",
       "Studio                0.000173\n",
       "Name: proportion, dtype: float64"
      ]
     },
     "execution_count": 94,
     "metadata": {},
     "output_type": "execute_result"
    }
   ],
   "source": [
    "df.Tipo.value_counts(normalize=True)  # Contagem dos tipos de imóveis"
   ]
  },
  {
   "cell_type": "code",
   "execution_count": null,
   "id": "0d6658cd",
   "metadata": {},
   "outputs": [
    {
     "data": {
      "application/vnd.microsoft.datawrangler.viewer.v0+json": {
       "columns": [
        {
         "name": "Tipo",
         "rawType": "object",
         "type": "string"
        },
        {
         "name": "proportion",
         "rawType": "float64",
         "type": "float"
        }
       ],
       "conversionMethod": "pd.DataFrame",
       "ref": "c62c02d1-9c95-4c5f-8bb1-cf131d7eb0fc",
       "rows": [
        [
         "Studio",
         "0.0001730777551815153"
        ],
        [
         "Loft",
         "0.00220674137856432"
        ],
        [
         "Casa de Vila",
         "0.010774090260049328"
        ],
        [
         "Flat",
         "0.02059625286660032"
        ],
        [
         "Quitinete",
         "0.036173250832936696"
        ],
        [
         "Casa",
         "0.041841547315131324"
        ],
        [
         "Casa de Condomínio",
         "0.04309636104019731"
        ],
        [
         "Apartamento",
         "0.8451386785513392"
        ]
       ],
       "shape": {
        "columns": 1,
        "rows": 8
       }
      },
      "text/html": [
       "<div>\n",
       "<style scoped>\n",
       "    .dataframe tbody tr th:only-of-type {\n",
       "        vertical-align: middle;\n",
       "    }\n",
       "\n",
       "    .dataframe tbody tr th {\n",
       "        vertical-align: top;\n",
       "    }\n",
       "\n",
       "    .dataframe thead th {\n",
       "        text-align: right;\n",
       "    }\n",
       "</style>\n",
       "<table border=\"1\" class=\"dataframe\">\n",
       "  <thead>\n",
       "    <tr style=\"text-align: right;\">\n",
       "      <th></th>\n",
       "      <th>proportion</th>\n",
       "    </tr>\n",
       "    <tr>\n",
       "      <th>Tipo</th>\n",
       "      <th></th>\n",
       "    </tr>\n",
       "  </thead>\n",
       "  <tbody>\n",
       "    <tr>\n",
       "      <th>Studio</th>\n",
       "      <td>0.000173</td>\n",
       "    </tr>\n",
       "    <tr>\n",
       "      <th>Loft</th>\n",
       "      <td>0.002207</td>\n",
       "    </tr>\n",
       "    <tr>\n",
       "      <th>Casa de Vila</th>\n",
       "      <td>0.010774</td>\n",
       "    </tr>\n",
       "    <tr>\n",
       "      <th>Flat</th>\n",
       "      <td>0.020596</td>\n",
       "    </tr>\n",
       "    <tr>\n",
       "      <th>Quitinete</th>\n",
       "      <td>0.036173</td>\n",
       "    </tr>\n",
       "    <tr>\n",
       "      <th>Casa</th>\n",
       "      <td>0.041842</td>\n",
       "    </tr>\n",
       "    <tr>\n",
       "      <th>Casa de Condomínio</th>\n",
       "      <td>0.043096</td>\n",
       "    </tr>\n",
       "    <tr>\n",
       "      <th>Apartamento</th>\n",
       "      <td>0.845139</td>\n",
       "    </tr>\n",
       "  </tbody>\n",
       "</table>\n",
       "</div>"
      ],
      "text/plain": [
       "                    proportion\n",
       "Tipo                          \n",
       "Studio                0.000173\n",
       "Loft                  0.002207\n",
       "Casa de Vila          0.010774\n",
       "Flat                  0.020596\n",
       "Quitinete             0.036173\n",
       "Casa                  0.041842\n",
       "Casa de Condomínio    0.043096\n",
       "Apartamento           0.845139"
      ]
     },
     "execution_count": 118,
     "metadata": {},
     "output_type": "execute_result"
    }
   ],
   "source": [
    "df.Tipo.value_counts(\n",
    "    normalize=True, ascending=True\n",
    ").to_frame()  # Ordena os valores da contagem"
   ]
  },
  {
   "cell_type": "code",
   "execution_count": null,
   "id": "d1e3bd97",
   "metadata": {},
   "outputs": [
    {
     "data": {
      "text/plain": [
       "<Axes: xlabel='Tipo', ylabel='Percentual'>"
      ]
     },
     "execution_count": 122,
     "metadata": {},
     "output_type": "execute_result"
    },
    {
     "data": {
      "image/png": "[encoded data removed]",
      "text/plain": [
       "<Figure size 1400x1000 with 1 Axes>"
      ]
     },
     "metadata": {},
     "output_type": "display_data"
    }
   ],
   "source": [
    "df_percentual_tipo = df.Tipo.value_counts(normalize=True, ascending=True).to_frame(\n",
    "    name=\"Percentual\"\n",
    ")  # Cria um DataFrame com os percentuais\n",
    "\n",
    "df_percentual_tipo.plot(\n",
    "    kind=\"bar\",\n",
    "    figsize=(14, 10),\n",
    "    color=\"green\",\n",
    "    xlabel=\"Tipo\",\n",
    "    ylabel=\"Percentual\",\n",
    "    legend=True,\n",
    ")\n",
    "# Plota o gráfico de barras"
   ]
  },
  {
   "cell_type": "markdown",
   "id": "a1fb9c1a",
   "metadata": {},
   "source": [
    "# Verificar a existência de valores nulos"
   ]
  },
  {
   "cell_type": "code",
   "execution_count": 19,
   "id": "c530e8c5",
   "metadata": {},
   "outputs": [
    {
     "name": "stdout",
     "output_type": "stream",
     "text": [
      "Tipo              0\n",
      "Bairro            0\n",
      "Quartos           0\n",
      "Vagas             0\n",
      "Suites            0\n",
      "Area              0\n",
      "Valor            17\n",
      "Condominio     4093\n",
      "IPTU          10237\n",
      "dtype: int64\n"
     ]
    }
   ],
   "source": [
    "# valores nulos\n",
    "\n",
    "dados.isnull().sum()\n",
    "print(dados.isnull().sum())  # Verifica se ainda existem valores nulos"
   ]
  },
  {
   "cell_type": "markdown",
   "id": "d3777fbc",
   "metadata": {},
   "source": [
    "# Tratar os valores nulos"
   ]
  },
  {
   "cell_type": "code",
   "execution_count": 20,
   "id": "b0f5cafb",
   "metadata": {},
   "outputs": [
    {
     "name": "stdout",
     "output_type": "stream",
     "text": [
      "Tipo          0\n",
      "Bairro        0\n",
      "Quartos       0\n",
      "Vagas         0\n",
      "Suites        0\n",
      "Area          0\n",
      "Valor         0\n",
      "Condominio    0\n",
      "IPTU          0\n",
      "dtype: int64\n"
     ]
    }
   ],
   "source": [
    "# Retirando os valores nulos\n",
    "dados.dropna(inplace=True)\n",
    "print(dados.isnull().sum())  # Verifica se ainda existem valores nulos"
   ]
  }
 ],
 "metadata": {
  "kernelspec": {
   "display_name": "Python 3",
   "language": "python",
   "name": "python3"
  },
  "language_info": {
   "codemirror_mode": {
    "name": "ipython",
    "version": 3
   },
   "file_extension": ".py",
   "mimetype": "text/x-python",
   "name": "python",
   "nbconvert_exporter": "python",
   "pygments_lexer": "ipython3",
   "version": "3.13.3"
  }
 },
 "nbformat": 4,
 "nbformat_minor": 5
}
